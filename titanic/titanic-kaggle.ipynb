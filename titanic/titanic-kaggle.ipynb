{
 "cells": [
  {
   "cell_type": "code",
   "execution_count": 1,
   "metadata": {},
   "outputs": [],
   "source": [
    "import pandas as pd\n",
    "import numpy as np\n",
    "import matplotlib.pyplot as plt\n",
    "%matplotlib inline\n",
    "import warnings\n",
    "warnings.filterwarnings('ignore')"
   ]
  },
  {
   "cell_type": "code",
   "execution_count": 2,
   "metadata": {},
   "outputs": [
    {
     "data": {
      "text/html": [
       "<div>\n",
       "<style scoped>\n",
       "    .dataframe tbody tr th:only-of-type {\n",
       "        vertical-align: middle;\n",
       "    }\n",
       "\n",
       "    .dataframe tbody tr th {\n",
       "        vertical-align: top;\n",
       "    }\n",
       "\n",
       "    .dataframe thead th {\n",
       "        text-align: right;\n",
       "    }\n",
       "</style>\n",
       "<table border=\"1\" class=\"dataframe\">\n",
       "  <thead>\n",
       "    <tr style=\"text-align: right;\">\n",
       "      <th></th>\n",
       "      <th>PassengerId</th>\n",
       "      <th>Survived</th>\n",
       "      <th>Pclass</th>\n",
       "      <th>Name</th>\n",
       "      <th>Sex</th>\n",
       "      <th>Age</th>\n",
       "      <th>SibSp</th>\n",
       "      <th>Parch</th>\n",
       "      <th>Ticket</th>\n",
       "      <th>Fare</th>\n",
       "      <th>Cabin</th>\n",
       "      <th>Embarked</th>\n",
       "    </tr>\n",
       "  </thead>\n",
       "  <tbody>\n",
       "    <tr>\n",
       "      <th>0</th>\n",
       "      <td>1</td>\n",
       "      <td>0</td>\n",
       "      <td>3</td>\n",
       "      <td>Braund, Mr. Owen Harris</td>\n",
       "      <td>male</td>\n",
       "      <td>22.0</td>\n",
       "      <td>1</td>\n",
       "      <td>0</td>\n",
       "      <td>A/5 21171</td>\n",
       "      <td>7.2500</td>\n",
       "      <td>NaN</td>\n",
       "      <td>S</td>\n",
       "    </tr>\n",
       "    <tr>\n",
       "      <th>1</th>\n",
       "      <td>2</td>\n",
       "      <td>1</td>\n",
       "      <td>1</td>\n",
       "      <td>Cumings, Mrs. John Bradley (Florence Briggs Th...</td>\n",
       "      <td>female</td>\n",
       "      <td>38.0</td>\n",
       "      <td>1</td>\n",
       "      <td>0</td>\n",
       "      <td>PC 17599</td>\n",
       "      <td>71.2833</td>\n",
       "      <td>C85</td>\n",
       "      <td>C</td>\n",
       "    </tr>\n",
       "    <tr>\n",
       "      <th>2</th>\n",
       "      <td>3</td>\n",
       "      <td>1</td>\n",
       "      <td>3</td>\n",
       "      <td>Heikkinen, Miss. Laina</td>\n",
       "      <td>female</td>\n",
       "      <td>26.0</td>\n",
       "      <td>0</td>\n",
       "      <td>0</td>\n",
       "      <td>STON/O2. 3101282</td>\n",
       "      <td>7.9250</td>\n",
       "      <td>NaN</td>\n",
       "      <td>S</td>\n",
       "    </tr>\n",
       "    <tr>\n",
       "      <th>3</th>\n",
       "      <td>4</td>\n",
       "      <td>1</td>\n",
       "      <td>1</td>\n",
       "      <td>Futrelle, Mrs. Jacques Heath (Lily May Peel)</td>\n",
       "      <td>female</td>\n",
       "      <td>35.0</td>\n",
       "      <td>1</td>\n",
       "      <td>0</td>\n",
       "      <td>113803</td>\n",
       "      <td>53.1000</td>\n",
       "      <td>C123</td>\n",
       "      <td>S</td>\n",
       "    </tr>\n",
       "    <tr>\n",
       "      <th>4</th>\n",
       "      <td>5</td>\n",
       "      <td>0</td>\n",
       "      <td>3</td>\n",
       "      <td>Allen, Mr. William Henry</td>\n",
       "      <td>male</td>\n",
       "      <td>35.0</td>\n",
       "      <td>0</td>\n",
       "      <td>0</td>\n",
       "      <td>373450</td>\n",
       "      <td>8.0500</td>\n",
       "      <td>NaN</td>\n",
       "      <td>S</td>\n",
       "    </tr>\n",
       "  </tbody>\n",
       "</table>\n",
       "</div>"
      ],
      "text/plain": [
       "   PassengerId  Survived  Pclass  \\\n",
       "0            1         0       3   \n",
       "1            2         1       1   \n",
       "2            3         1       3   \n",
       "3            4         1       1   \n",
       "4            5         0       3   \n",
       "\n",
       "                                                Name     Sex   Age  SibSp  \\\n",
       "0                            Braund, Mr. Owen Harris    male  22.0      1   \n",
       "1  Cumings, Mrs. John Bradley (Florence Briggs Th...  female  38.0      1   \n",
       "2                             Heikkinen, Miss. Laina  female  26.0      0   \n",
       "3       Futrelle, Mrs. Jacques Heath (Lily May Peel)  female  35.0      1   \n",
       "4                           Allen, Mr. William Henry    male  35.0      0   \n",
       "\n",
       "   Parch            Ticket     Fare Cabin Embarked  \n",
       "0      0         A/5 21171   7.2500   NaN        S  \n",
       "1      0          PC 17599  71.2833   C85        C  \n",
       "2      0  STON/O2. 3101282   7.9250   NaN        S  \n",
       "3      0            113803  53.1000  C123        S  \n",
       "4      0            373450   8.0500   NaN        S  "
      ]
     },
     "execution_count": 2,
     "metadata": {},
     "output_type": "execute_result"
    }
   ],
   "source": [
    "df = pd.read_csv(\"train.csv\")\n",
    "df.head()"
   ]
  },
  {
   "cell_type": "code",
   "execution_count": 3,
   "metadata": {},
   "outputs": [
    {
     "data": {
      "text/plain": [
       "PassengerId    0.000000\n",
       "Survived       0.000000\n",
       "Pclass         0.000000\n",
       "Name           0.000000\n",
       "Sex            0.000000\n",
       "Age            0.198653\n",
       "SibSp          0.000000\n",
       "Parch          0.000000\n",
       "Ticket         0.000000\n",
       "Fare           0.000000\n",
       "Cabin          0.771044\n",
       "Embarked       0.002245\n",
       "dtype: float64"
      ]
     },
     "execution_count": 3,
     "metadata": {},
     "output_type": "execute_result"
    }
   ],
   "source": [
    "df.isnull().mean()"
   ]
  },
  {
   "cell_type": "code",
   "execution_count": 4,
   "metadata": {},
   "outputs": [
    {
     "data": {
      "text/plain": [
       "(array([ 54.,  46., 177., 169., 118.,  70.,  45.,  24.,   9.,   2.]),\n",
       " array([ 0.42 ,  8.378, 16.336, 24.294, 32.252, 40.21 , 48.168, 56.126,\n",
       "        64.084, 72.042, 80.   ]),\n",
       " <BarContainer object of 10 artists>)"
      ]
     },
     "execution_count": 4,
     "metadata": {},
     "output_type": "execute_result"
    },
    {
     "data": {
      "image/png": "[encoded data removed]",
      "text/plain": [
       "<Figure size 432x288 with 1 Axes>"
      ]
     },
     "metadata": {
      "needs_background": "light"
     },
     "output_type": "display_data"
    }
   ],
   "source": [
    "counts, bins = np.histogram(df[\"Age\"].dropna())\n",
    "plt.hist(bins[:-1], bins, weights=counts)"
   ]
  },
  {
   "cell_type": "code",
   "execution_count": 5,
   "metadata": {},
   "outputs": [],
   "source": [
    "del df[\"Name\"]\n",
    "del df[\"Cabin\"]\n",
    "del df[\"Ticket\"]\n",
    "del df[\"Embarked\"]\n",
    "del df[\"Fare\"]"
   ]
  },
  {
   "cell_type": "code",
   "execution_count": 6,
   "metadata": {},
   "outputs": [],
   "source": [
    "df=pd.get_dummies(df,columns=[\"Sex\"],drop_first=True)"
   ]
  },
  {
   "cell_type": "code",
   "execution_count": 7,
   "metadata": {},
   "outputs": [
    {
     "data": {
      "text/html": [
       "<div>\n",
       "<style scoped>\n",
       "    .dataframe tbody tr th:only-of-type {\n",
       "        vertical-align: middle;\n",
       "    }\n",
       "\n",
       "    .dataframe tbody tr th {\n",
       "        vertical-align: top;\n",
       "    }\n",
       "\n",
       "    .dataframe thead th {\n",
       "        text-align: right;\n",
       "    }\n",
       "</style>\n",
       "<table border=\"1\" class=\"dataframe\">\n",
       "  <thead>\n",
       "    <tr style=\"text-align: right;\">\n",
       "      <th></th>\n",
       "      <th>Survived</th>\n",
       "      <th>Pclass</th>\n",
       "      <th>Age</th>\n",
       "      <th>SibSp</th>\n",
       "      <th>Parch</th>\n",
       "      <th>Sex_male</th>\n",
       "    </tr>\n",
       "  </thead>\n",
       "  <tbody>\n",
       "    <tr>\n",
       "      <th>0</th>\n",
       "      <td>0</td>\n",
       "      <td>3</td>\n",
       "      <td>22.0</td>\n",
       "      <td>1</td>\n",
       "      <td>0</td>\n",
       "      <td>1</td>\n",
       "    </tr>\n",
       "    <tr>\n",
       "      <th>1</th>\n",
       "      <td>1</td>\n",
       "      <td>1</td>\n",
       "      <td>38.0</td>\n",
       "      <td>1</td>\n",
       "      <td>0</td>\n",
       "      <td>0</td>\n",
       "    </tr>\n",
       "    <tr>\n",
       "      <th>2</th>\n",
       "      <td>1</td>\n",
       "      <td>3</td>\n",
       "      <td>26.0</td>\n",
       "      <td>0</td>\n",
       "      <td>0</td>\n",
       "      <td>0</td>\n",
       "    </tr>\n",
       "    <tr>\n",
       "      <th>3</th>\n",
       "      <td>1</td>\n",
       "      <td>1</td>\n",
       "      <td>35.0</td>\n",
       "      <td>1</td>\n",
       "      <td>0</td>\n",
       "      <td>0</td>\n",
       "    </tr>\n",
       "    <tr>\n",
       "      <th>4</th>\n",
       "      <td>0</td>\n",
       "      <td>3</td>\n",
       "      <td>35.0</td>\n",
       "      <td>0</td>\n",
       "      <td>0</td>\n",
       "      <td>1</td>\n",
       "    </tr>\n",
       "  </tbody>\n",
       "</table>\n",
       "</div>"
      ],
      "text/plain": [
       "   Survived  Pclass   Age  SibSp  Parch  Sex_male\n",
       "0         0       3  22.0      1      0         1\n",
       "1         1       1  38.0      1      0         0\n",
       "2         1       3  26.0      0      0         0\n",
       "3         1       1  35.0      1      0         0\n",
       "4         0       3  35.0      0      0         1"
      ]
     },
     "execution_count": 7,
     "metadata": {},
     "output_type": "execute_result"
    }
   ],
   "source": [
    "del df[\"PassengerId\"]\n",
    "df.head()"
   ]
  },
  {
   "cell_type": "code",
   "execution_count": 8,
   "metadata": {},
   "outputs": [
    {
     "data": {
      "text/html": [
       "<div>\n",
       "<style scoped>\n",
       "    .dataframe tbody tr th:only-of-type {\n",
       "        vertical-align: middle;\n",
       "    }\n",
       "\n",
       "    .dataframe tbody tr th {\n",
       "        vertical-align: top;\n",
       "    }\n",
       "\n",
       "    .dataframe thead th {\n",
       "        text-align: right;\n",
       "    }\n",
       "</style>\n",
       "<table border=\"1\" class=\"dataframe\">\n",
       "  <thead>\n",
       "    <tr style=\"text-align: right;\">\n",
       "      <th></th>\n",
       "      <th>Survived</th>\n",
       "      <th>Pclass</th>\n",
       "      <th>Age</th>\n",
       "      <th>SibSp</th>\n",
       "      <th>Parch</th>\n",
       "      <th>Sex_male</th>\n",
       "    </tr>\n",
       "  </thead>\n",
       "  <tbody>\n",
       "    <tr>\n",
       "      <th>Survived</th>\n",
       "      <td>1.000000</td>\n",
       "      <td>-0.338481</td>\n",
       "      <td>-0.077221</td>\n",
       "      <td>-0.035322</td>\n",
       "      <td>0.081629</td>\n",
       "      <td>-0.543351</td>\n",
       "    </tr>\n",
       "    <tr>\n",
       "      <th>Pclass</th>\n",
       "      <td>-0.338481</td>\n",
       "      <td>1.000000</td>\n",
       "      <td>-0.369226</td>\n",
       "      <td>0.083081</td>\n",
       "      <td>0.018443</td>\n",
       "      <td>0.131900</td>\n",
       "    </tr>\n",
       "    <tr>\n",
       "      <th>Age</th>\n",
       "      <td>-0.077221</td>\n",
       "      <td>-0.369226</td>\n",
       "      <td>1.000000</td>\n",
       "      <td>-0.308247</td>\n",
       "      <td>-0.189119</td>\n",
       "      <td>0.093254</td>\n",
       "    </tr>\n",
       "    <tr>\n",
       "      <th>SibSp</th>\n",
       "      <td>-0.035322</td>\n",
       "      <td>0.083081</td>\n",
       "      <td>-0.308247</td>\n",
       "      <td>1.000000</td>\n",
       "      <td>0.414838</td>\n",
       "      <td>-0.114631</td>\n",
       "    </tr>\n",
       "    <tr>\n",
       "      <th>Parch</th>\n",
       "      <td>0.081629</td>\n",
       "      <td>0.018443</td>\n",
       "      <td>-0.189119</td>\n",
       "      <td>0.414838</td>\n",
       "      <td>1.000000</td>\n",
       "      <td>-0.245489</td>\n",
       "    </tr>\n",
       "    <tr>\n",
       "      <th>Sex_male</th>\n",
       "      <td>-0.543351</td>\n",
       "      <td>0.131900</td>\n",
       "      <td>0.093254</td>\n",
       "      <td>-0.114631</td>\n",
       "      <td>-0.245489</td>\n",
       "      <td>1.000000</td>\n",
       "    </tr>\n",
       "  </tbody>\n",
       "</table>\n",
       "</div>"
      ],
      "text/plain": [
       "          Survived    Pclass       Age     SibSp     Parch  Sex_male\n",
       "Survived  1.000000 -0.338481 -0.077221 -0.035322  0.081629 -0.543351\n",
       "Pclass   -0.338481  1.000000 -0.369226  0.083081  0.018443  0.131900\n",
       "Age      -0.077221 -0.369226  1.000000 -0.308247 -0.189119  0.093254\n",
       "SibSp    -0.035322  0.083081 -0.308247  1.000000  0.414838 -0.114631\n",
       "Parch     0.081629  0.018443 -0.189119  0.414838  1.000000 -0.245489\n",
       "Sex_male -0.543351  0.131900  0.093254 -0.114631 -0.245489  1.000000"
      ]
     },
     "execution_count": 8,
     "metadata": {},
     "output_type": "execute_result"
    }
   ],
   "source": [
    "df.corr()"
   ]
  },
  {
   "cell_type": "code",
   "execution_count": 9,
   "metadata": {},
   "outputs": [
    {
     "data": {
      "image/png": "[encoded data removed]",
      "text/plain": [
       "<Figure size 288x288 with 1 Axes>"
      ]
     },
     "metadata": {
      "needs_background": "light"
     },
     "output_type": "display_data"
    }
   ],
   "source": [
    "plt.matshow(df.corr())\n",
    "plt.show()"
   ]
  },
  {
   "cell_type": "code",
   "execution_count": 10,
   "metadata": {},
   "outputs": [],
   "source": [
    "from scipy.stats import pearsonr"
   ]
  },
  {
   "cell_type": "code",
   "execution_count": 11,
   "metadata": {},
   "outputs": [
    {
     "data": {
      "text/plain": [
       "(-0.3692260153155172, 1.7566991549626533e-24)"
      ]
     },
     "execution_count": 11,
     "metadata": {},
     "output_type": "execute_result"
    }
   ],
   "source": [
    "df_clean = df[['Pclass', 'Age']].dropna()\n",
    "pearsonr(df_clean['Pclass'], df_clean['Age'])"
   ]
  },
  {
   "cell_type": "code",
   "execution_count": 12,
   "metadata": {},
   "outputs": [
    {
     "data": {
      "text/plain": [
       "(-0.3384810359610153, 2.537047387978631e-25)"
      ]
     },
     "execution_count": 12,
     "metadata": {},
     "output_type": "execute_result"
    }
   ],
   "source": [
    "df_clean = df[['Pclass', 'Survived']].dropna()\n",
    "pearsonr(df_clean['Pclass'], df_clean['Survived'])"
   ]
  },
  {
   "cell_type": "code",
   "execution_count": 13,
   "metadata": {},
   "outputs": [
    {
     "data": {
      "text/plain": [
       "(-0.18911926263203488, 3.5699493882872437e-07)"
      ]
     },
     "execution_count": 13,
     "metadata": {},
     "output_type": "execute_result"
    }
   ],
   "source": [
    "df_clean = df[['Parch', 'Age']].dropna()\n",
    "pearsonr(df_clean['Parch'], df_clean['Age'])"
   ]
  },
  {
   "cell_type": "code",
   "execution_count": 14,
   "metadata": {},
   "outputs": [
    {
     "data": {
      "text/plain": [
       "(0.08162940708348379, 0.014799245374712763)"
      ]
     },
     "execution_count": 14,
     "metadata": {},
     "output_type": "execute_result"
    }
   ],
   "source": [
    "df_clean = df[['Parch', 'Survived']].dropna()\n",
    "pearsonr(df_clean['Parch'], df_clean['Survived'])"
   ]
  },
  {
   "cell_type": "code",
   "execution_count": 15,
   "metadata": {},
   "outputs": [],
   "source": [
    "import math\n",
    "def imputeNaN(df,feat_imp,feat_by):\n",
    "    df[feat_imp+\"_imputed\"]=df[feat_imp]\n",
    "    for i,inp in enumerate(df[feat_imp]):\n",
    "        if math.isnan(inp):\n",
    "            by_type=df[feat_by][i]\n",
    "            df_temp=df.dropna().groupby(feat_by).sample(n=1)\n",
    "            df[feat_imp+\"_imputed\"][i]=df_temp[feat_imp][df_temp[feat_by].index[list(df_temp[feat_by].values).index(by_type)]]\n",
    "            "
   ]
  },
  {
   "cell_type": "code",
   "execution_count": 16,
   "metadata": {},
   "outputs": [],
   "source": [
    "imputeNaN(df,\"Age\",\"Pclass\")"
   ]
  },
  {
   "cell_type": "code",
   "execution_count": 17,
   "metadata": {},
   "outputs": [
    {
     "data": {
      "text/plain": [
       "Survived         0\n",
       "Pclass           0\n",
       "Age            177\n",
       "SibSp            0\n",
       "Parch            0\n",
       "Sex_male         0\n",
       "Age_imputed      0\n",
       "dtype: int64"
      ]
     },
     "execution_count": 17,
     "metadata": {},
     "output_type": "execute_result"
    }
   ],
   "source": [
    "df.isnull().sum()"
   ]
  },
  {
   "cell_type": "code",
   "execution_count": 18,
   "metadata": {},
   "outputs": [
    {
     "data": {
      "text/plain": [
       "<matplotlib.legend.Legend at 0x1b288fe0dc8>"
      ]
     },
     "execution_count": 18,
     "metadata": {},
     "output_type": "execute_result"
    },
    {
     "data": {
      "image/png": "[encoded data removed]",
      "text/plain": [
       "<Figure size 432x288 with 1 Axes>"
      ]
     },
     "metadata": {
      "needs_background": "light"
     },
     "output_type": "display_data"
    }
   ],
   "source": [
    "fig = plt.figure()\n",
    "ax = fig.add_subplot(111)\n",
    "df['Age'].plot(kind='kde', ax=ax)\n",
    "df.Age_imputed.plot(kind='kde', ax=ax, color='red')\n",
    "lines, labels = ax.get_legend_handles_labels()\n",
    "ax.legend(lines, labels, loc='best')"
   ]
  },
  {
   "cell_type": "code",
   "execution_count": 19,
   "metadata": {},
   "outputs": [
    {
     "name": "stdout",
     "output_type": "stream",
     "text": [
      "29.69911764705882\n",
      "29.15226711560045\n",
      "14.526497332334042\n",
      "14.160346057649484\n"
     ]
    }
   ],
   "source": [
    "print(df['Age'].mean())\n",
    "print(df['Age_imputed'].mean())\n",
    "\n",
    "print(df['Age'].std())\n",
    "print(df['Age_imputed'].std())"
   ]
  },
  {
   "cell_type": "code",
   "execution_count": 20,
   "metadata": {},
   "outputs": [
    {
     "data": {
      "text/plain": [
       "Ttest_indResult(statistic=0.7600528176438471, pvalue=0.4473347808609449)"
      ]
     },
     "execution_count": 20,
     "metadata": {},
     "output_type": "execute_result"
    }
   ],
   "source": [
    "from scipy.stats import ttest_ind\n",
    "ttest_ind(df['Age'].dropna(), df['Age_imputed'])"
   ]
  },
  {
   "cell_type": "code",
   "execution_count": 21,
   "metadata": {},
   "outputs": [],
   "source": [
    "def imputeNanRandom(df,variable):\n",
    "    df[variable+\"_random\"]=df[variable]\n",
    "    random_sample=df[variable].dropna().sample(df[variable].isnull().sum(),random_state=0)\n",
    "    random_sample.index=df[df[variable].isnull()].index\n",
    "    df.loc[df[variable].isnull(),variable+'_random']=random_sample"
   ]
  },
  {
   "cell_type": "code",
   "execution_count": 22,
   "metadata": {},
   "outputs": [
    {
     "data": {
      "text/html": [
       "<div>\n",
       "<style scoped>\n",
       "    .dataframe tbody tr th:only-of-type {\n",
       "        vertical-align: middle;\n",
       "    }\n",
       "\n",
       "    .dataframe tbody tr th {\n",
       "        vertical-align: top;\n",
       "    }\n",
       "\n",
       "    .dataframe thead th {\n",
       "        text-align: right;\n",
       "    }\n",
       "</style>\n",
       "<table border=\"1\" class=\"dataframe\">\n",
       "  <thead>\n",
       "    <tr style=\"text-align: right;\">\n",
       "      <th></th>\n",
       "      <th>Survived</th>\n",
       "      <th>Pclass</th>\n",
       "      <th>Age</th>\n",
       "      <th>SibSp</th>\n",
       "      <th>Parch</th>\n",
       "      <th>Sex_male</th>\n",
       "      <th>Age_imputed</th>\n",
       "      <th>Age_random</th>\n",
       "    </tr>\n",
       "  </thead>\n",
       "  <tbody>\n",
       "    <tr>\n",
       "      <th>0</th>\n",
       "      <td>0</td>\n",
       "      <td>3</td>\n",
       "      <td>22.0</td>\n",
       "      <td>1</td>\n",
       "      <td>0</td>\n",
       "      <td>1</td>\n",
       "      <td>22.0</td>\n",
       "      <td>22.0</td>\n",
       "    </tr>\n",
       "    <tr>\n",
       "      <th>1</th>\n",
       "      <td>1</td>\n",
       "      <td>1</td>\n",
       "      <td>38.0</td>\n",
       "      <td>1</td>\n",
       "      <td>0</td>\n",
       "      <td>0</td>\n",
       "      <td>38.0</td>\n",
       "      <td>38.0</td>\n",
       "    </tr>\n",
       "    <tr>\n",
       "      <th>2</th>\n",
       "      <td>1</td>\n",
       "      <td>3</td>\n",
       "      <td>26.0</td>\n",
       "      <td>0</td>\n",
       "      <td>0</td>\n",
       "      <td>0</td>\n",
       "      <td>26.0</td>\n",
       "      <td>26.0</td>\n",
       "    </tr>\n",
       "    <tr>\n",
       "      <th>3</th>\n",
       "      <td>1</td>\n",
       "      <td>1</td>\n",
       "      <td>35.0</td>\n",
       "      <td>1</td>\n",
       "      <td>0</td>\n",
       "      <td>0</td>\n",
       "      <td>35.0</td>\n",
       "      <td>35.0</td>\n",
       "    </tr>\n",
       "    <tr>\n",
       "      <th>4</th>\n",
       "      <td>0</td>\n",
       "      <td>3</td>\n",
       "      <td>35.0</td>\n",
       "      <td>0</td>\n",
       "      <td>0</td>\n",
       "      <td>1</td>\n",
       "      <td>35.0</td>\n",
       "      <td>35.0</td>\n",
       "    </tr>\n",
       "    <tr>\n",
       "      <th>5</th>\n",
       "      <td>0</td>\n",
       "      <td>3</td>\n",
       "      <td>NaN</td>\n",
       "      <td>0</td>\n",
       "      <td>0</td>\n",
       "      <td>1</td>\n",
       "      <td>21.0</td>\n",
       "      <td>28.0</td>\n",
       "    </tr>\n",
       "    <tr>\n",
       "      <th>6</th>\n",
       "      <td>0</td>\n",
       "      <td>1</td>\n",
       "      <td>54.0</td>\n",
       "      <td>0</td>\n",
       "      <td>0</td>\n",
       "      <td>1</td>\n",
       "      <td>54.0</td>\n",
       "      <td>54.0</td>\n",
       "    </tr>\n",
       "    <tr>\n",
       "      <th>7</th>\n",
       "      <td>0</td>\n",
       "      <td>3</td>\n",
       "      <td>2.0</td>\n",
       "      <td>3</td>\n",
       "      <td>1</td>\n",
       "      <td>1</td>\n",
       "      <td>2.0</td>\n",
       "      <td>2.0</td>\n",
       "    </tr>\n",
       "    <tr>\n",
       "      <th>8</th>\n",
       "      <td>1</td>\n",
       "      <td>3</td>\n",
       "      <td>27.0</td>\n",
       "      <td>0</td>\n",
       "      <td>2</td>\n",
       "      <td>0</td>\n",
       "      <td>27.0</td>\n",
       "      <td>27.0</td>\n",
       "    </tr>\n",
       "    <tr>\n",
       "      <th>9</th>\n",
       "      <td>1</td>\n",
       "      <td>2</td>\n",
       "      <td>14.0</td>\n",
       "      <td>1</td>\n",
       "      <td>0</td>\n",
       "      <td>0</td>\n",
       "      <td>14.0</td>\n",
       "      <td>14.0</td>\n",
       "    </tr>\n",
       "  </tbody>\n",
       "</table>\n",
       "</div>"
      ],
      "text/plain": [
       "   Survived  Pclass   Age  SibSp  Parch  Sex_male  Age_imputed  Age_random\n",
       "0         0       3  22.0      1      0         1         22.0        22.0\n",
       "1         1       1  38.0      1      0         0         38.0        38.0\n",
       "2         1       3  26.0      0      0         0         26.0        26.0\n",
       "3         1       1  35.0      1      0         0         35.0        35.0\n",
       "4         0       3  35.0      0      0         1         35.0        35.0\n",
       "5         0       3   NaN      0      0         1         21.0        28.0\n",
       "6         0       1  54.0      0      0         1         54.0        54.0\n",
       "7         0       3   2.0      3      1         1          2.0         2.0\n",
       "8         1       3  27.0      0      2         0         27.0        27.0\n",
       "9         1       2  14.0      1      0         0         14.0        14.0"
      ]
     },
     "execution_count": 22,
     "metadata": {},
     "output_type": "execute_result"
    }
   ],
   "source": [
    "imputeNanRandom(df,\"Age\")\n",
    "df.head(10)"
   ]
  },
  {
   "cell_type": "code",
   "execution_count": 23,
   "metadata": {},
   "outputs": [
    {
     "data": {
      "text/plain": [
       "<matplotlib.legend.Legend at 0x1b2890d9ec8>"
      ]
     },
     "execution_count": 23,
     "metadata": {},
     "output_type": "execute_result"
    },
    {
     "data": {
      "image/png": "[encoded data removed]",
      "text/plain": [
       "<Figure size 432x288 with 1 Axes>"
      ]
     },
     "metadata": {
      "needs_background": "light"
     },
     "output_type": "display_data"
    }
   ],
   "source": [
    "fig = plt.figure()\n",
    "ax = fig.add_subplot(111)\n",
    "df['Age'].plot(kind='kde', ax=ax)\n",
    "df.Age_random.plot(kind='kde', ax=ax, color='red')\n",
    "lines, labels = ax.get_legend_handles_labels()\n",
    "ax.legend(lines, labels, loc='best')"
   ]
  },
  {
   "cell_type": "code",
   "execution_count": 24,
   "metadata": {},
   "outputs": [
    {
     "name": "stdout",
     "output_type": "stream",
     "text": [
      "29.69911764705882\n",
      "29.15226711560045\n",
      "29.70034792368126\n",
      "\n",
      "14.526497332334042\n",
      "14.160346057649484\n",
      "14.56365408956869\n"
     ]
    }
   ],
   "source": [
    "print(df['Age'].mean())\n",
    "print(df['Age_imputed'].mean())\n",
    "print(df[\"Age_random\"].mean())\n",
    "print()\n",
    "print(df['Age'].std())\n",
    "print(df['Age_imputed'].std())\n",
    "print(df[\"Age_random\"].std())"
   ]
  },
  {
   "cell_type": "code",
   "execution_count": 25,
   "metadata": {},
   "outputs": [
    {
     "data": {
      "text/plain": [
       "Ttest_indResult(statistic=-0.001683742321121153, pvalue=0.9986567781347253)"
      ]
     },
     "execution_count": 25,
     "metadata": {},
     "output_type": "execute_result"
    }
   ],
   "source": [
    "ttest_ind(df['Age'].dropna(), df['Age_random'])"
   ]
  },
  {
   "cell_type": "code",
   "execution_count": 26,
   "metadata": {},
   "outputs": [],
   "source": [
    "df['Age_null']=np.where(df['Age'].isnull(),1,0)"
   ]
  },
  {
   "cell_type": "code",
   "execution_count": 27,
   "metadata": {},
   "outputs": [
    {
     "data": {
      "text/html": [
       "<div>\n",
       "<style scoped>\n",
       "    .dataframe tbody tr th:only-of-type {\n",
       "        vertical-align: middle;\n",
       "    }\n",
       "\n",
       "    .dataframe tbody tr th {\n",
       "        vertical-align: top;\n",
       "    }\n",
       "\n",
       "    .dataframe thead th {\n",
       "        text-align: right;\n",
       "    }\n",
       "</style>\n",
       "<table border=\"1\" class=\"dataframe\">\n",
       "  <thead>\n",
       "    <tr style=\"text-align: right;\">\n",
       "      <th></th>\n",
       "      <th>Survived</th>\n",
       "      <th>Pclass</th>\n",
       "      <th>Age</th>\n",
       "      <th>SibSp</th>\n",
       "      <th>Parch</th>\n",
       "      <th>Sex_male</th>\n",
       "      <th>Age_imputed</th>\n",
       "      <th>Age_random</th>\n",
       "      <th>Age_null</th>\n",
       "    </tr>\n",
       "  </thead>\n",
       "  <tbody>\n",
       "    <tr>\n",
       "      <th>886</th>\n",
       "      <td>0</td>\n",
       "      <td>2</td>\n",
       "      <td>27.0</td>\n",
       "      <td>0</td>\n",
       "      <td>0</td>\n",
       "      <td>1</td>\n",
       "      <td>27.0</td>\n",
       "      <td>27.0</td>\n",
       "      <td>0</td>\n",
       "    </tr>\n",
       "    <tr>\n",
       "      <th>887</th>\n",
       "      <td>1</td>\n",
       "      <td>1</td>\n",
       "      <td>19.0</td>\n",
       "      <td>0</td>\n",
       "      <td>0</td>\n",
       "      <td>0</td>\n",
       "      <td>19.0</td>\n",
       "      <td>19.0</td>\n",
       "      <td>0</td>\n",
       "    </tr>\n",
       "    <tr>\n",
       "      <th>888</th>\n",
       "      <td>0</td>\n",
       "      <td>3</td>\n",
       "      <td>NaN</td>\n",
       "      <td>1</td>\n",
       "      <td>2</td>\n",
       "      <td>0</td>\n",
       "      <td>20.0</td>\n",
       "      <td>15.0</td>\n",
       "      <td>1</td>\n",
       "    </tr>\n",
       "    <tr>\n",
       "      <th>889</th>\n",
       "      <td>1</td>\n",
       "      <td>1</td>\n",
       "      <td>26.0</td>\n",
       "      <td>0</td>\n",
       "      <td>0</td>\n",
       "      <td>1</td>\n",
       "      <td>26.0</td>\n",
       "      <td>26.0</td>\n",
       "      <td>0</td>\n",
       "    </tr>\n",
       "    <tr>\n",
       "      <th>890</th>\n",
       "      <td>0</td>\n",
       "      <td>3</td>\n",
       "      <td>32.0</td>\n",
       "      <td>0</td>\n",
       "      <td>0</td>\n",
       "      <td>1</td>\n",
       "      <td>32.0</td>\n",
       "      <td>32.0</td>\n",
       "      <td>0</td>\n",
       "    </tr>\n",
       "  </tbody>\n",
       "</table>\n",
       "</div>"
      ],
      "text/plain": [
       "     Survived  Pclass   Age  SibSp  Parch  Sex_male  Age_imputed  Age_random  \\\n",
       "886         0       2  27.0      0      0         1         27.0        27.0   \n",
       "887         1       1  19.0      0      0         0         19.0        19.0   \n",
       "888         0       3   NaN      1      2         0         20.0        15.0   \n",
       "889         1       1  26.0      0      0         1         26.0        26.0   \n",
       "890         0       3  32.0      0      0         1         32.0        32.0   \n",
       "\n",
       "     Age_null  \n",
       "886         0  \n",
       "887         0  \n",
       "888         1  \n",
       "889         0  \n",
       "890         0  "
      ]
     },
     "execution_count": 27,
     "metadata": {},
     "output_type": "execute_result"
    }
   ],
   "source": [
    "df.tail()"
   ]
  },
  {
   "cell_type": "code",
   "execution_count": 28,
   "metadata": {},
   "outputs": [],
   "source": [
    "X=df[['Pclass','SibSp','Parch','Sex_male','Age_random','Age_null']]\n",
    "y=df['Survived']"
   ]
  },
  {
   "cell_type": "code",
   "execution_count": 29,
   "metadata": {},
   "outputs": [],
   "source": [
    "from sklearn.model_selection import train_test_split\n",
    "X_train, X_test, y_train, y_test = train_test_split(X, y, test_size=0.3, random_state=0)"
   ]
  },
  {
   "cell_type": "code",
   "execution_count": 30,
   "metadata": {},
   "outputs": [
    {
     "name": "stdout",
     "output_type": "stream",
     "text": [
      "Accuracy:   0.764925\n"
     ]
    },
    {
     "data": {
      "image/png": "[encoded data removed]",
      "text/plain": [
       "<Figure size 432x288 with 2 Axes>"
      ]
     },
     "metadata": {
      "needs_background": "light"
     },
     "output_type": "display_data"
    }
   ],
   "source": [
    "from sklearn.naive_bayes import GaussianNB\n",
    "from sklearn import metrics\n",
    "import seaborn as sns\n",
    "\n",
    "model_nb=GaussianNB()\n",
    "\n",
    "model_nb.fit(X_train, y_train)\n",
    "pred_nb = model_nb.predict(X_test)\n",
    "score = metrics.accuracy_score(y_test, pred_nb)\n",
    "print(\"Accuracy:   %f\" % score)\n",
    "cm = metrics.confusion_matrix(y_test, pred_nb)\n",
    "sns.heatmap(cm, annot=True, fmt='d')\n",
    "plt.ylabel('True label')\n",
    "plt.xlabel('Predicted label')\n",
    "plt.show()"
   ]
  },
  {
   "cell_type": "code",
   "execution_count": 31,
   "metadata": {},
   "outputs": [
    {
     "name": "stdout",
     "output_type": "stream",
     "text": [
      "Accuracy:   0.824627\n"
     ]
    },
    {
     "data": {
      "image/png": "[encoded data removed]",
      "text/plain": [
       "<Figure size 432x288 with 2 Axes>"
      ]
     },
     "metadata": {
      "needs_background": "light"
     },
     "output_type": "display_data"
    }
   ],
   "source": [
    "from sklearn import tree\n",
    "\n",
    "model_dt=tree.DecisionTreeClassifier(criterion=\"entropy\",max_depth=6,random_state=1)\n",
    "\n",
    "model_dt.fit(X_train,y_train)\n",
    "pred_dt=model_dt.predict(X_test)\n",
    "score = metrics.accuracy_score(y_test, pred_dt)\n",
    "print(\"Accuracy:   %f\" % score)\n",
    "cm = metrics.confusion_matrix(y_test, pred_dt)\n",
    "sns.heatmap(cm, annot=True, fmt='d')\n",
    "plt.ylabel('True label')\n",
    "plt.xlabel('Predicted label')\n",
    "plt.show()"
   ]
  },
  {
   "cell_type": "code",
   "execution_count": 32,
   "metadata": {},
   "outputs": [
    {
     "name": "stdout",
     "output_type": "stream",
     "text": [
      "Accuracy:   0.835821\n"
     ]
    },
    {
     "data": {
      "image/png": "[encoded data removed]",
      "text/plain": [
       "<Figure size 432x288 with 2 Axes>"
      ]
     },
     "metadata": {
      "needs_background": "light"
     },
     "output_type": "display_data"
    }
   ],
   "source": [
    "from sklearn import ensemble\n",
    "\n",
    "model_rf=ensemble.RandomForestClassifier(n_estimators=20,criterion=\"entropy\",max_depth=6,random_state=0)\n",
    "\n",
    "model_rf.fit(X_train,y_train)\n",
    "pred_rf=model_rf.predict(X_test)\n",
    "score = metrics.accuracy_score(y_test, pred_rf)\n",
    "print(\"Accuracy:   %f\" % score)\n",
    "cm = metrics.confusion_matrix(y_test, pred_rf)\n",
    "sns.heatmap(cm, annot=True, fmt='d')\n",
    "plt.ylabel('True label')\n",
    "plt.xlabel('Predicted label')\n",
    "plt.show()"
   ]
  },
  {
   "cell_type": "code",
   "execution_count": 33,
   "metadata": {},
   "outputs": [],
   "source": [
    "X_train_nn=[]\n",
    "y_train_nn=[]\n",
    "X_test_nn=[]\n",
    "\n",
    "for val in X_train.values:\n",
    "    X_train_nn.append(val)\n",
    "X_train_nn=np.array(X_train_nn)\n",
    "for val in y_train.values:\n",
    "    y_train_nn.append([val,1-val])\n",
    "y_train_nn=np.array(y_train_nn)\n",
    "for val in X_test.values:\n",
    "    X_test_nn.append(val)\n",
    "X_test_nn=np.array(X_test_nn)"
   ]
  },
  {
   "cell_type": "code",
   "execution_count": 34,
   "metadata": {},
   "outputs": [
    {
     "name": "stderr",
     "output_type": "stream",
     "text": [
      "Using TensorFlow backend.\n"
     ]
    }
   ],
   "source": [
    "from keras.models import Sequential\n",
    "from keras.layers import Dense\n",
    "\n",
    "np.random.seed(0)\n",
    "model_nn = Sequential()\n",
    "model_nn.add(Dense(15, input_dim=len(X_train_nn[0])))\n",
    "model_nn.add(Dense(10))\n",
    "model_nn.add(Dense(10))\n",
    "model_nn.add(Dense(len(y_train_nn[0]), activation=\"softmax\"))\n",
    "model_nn.compile(optimizer=\"adam\", loss=\"mse\", metrics=['accuracy'])"
   ]
  },
  {
   "cell_type": "code",
   "execution_count": 35,
   "metadata": {},
   "outputs": [
    {
     "name": "stdout",
     "output_type": "stream",
     "text": [
      "WARNING:tensorflow:From C:\\Users\\Fran\\.conda\\envs\\general\\lib\\site-packages\\keras\\backend\\tensorflow_backend.py:422: The name tf.global_variables is deprecated. Please use tf.compat.v1.global_variables instead.\n",
      "\n"
     ]
    }
   ],
   "source": [
    "pred_nn=model_nn.fit(X_train_nn, y_train_nn, epochs=200, batch_size=30, verbose=0)"
   ]
  },
  {
   "cell_type": "code",
   "execution_count": 36,
   "metadata": {},
   "outputs": [
    {
     "name": "stdout",
     "output_type": "stream",
     "text": [
      "Accuracy:   0.798507\n"
     ]
    },
    {
     "data": {
      "image/png": "[encoded data removed]",
      "text/plain": [
       "<Figure size 432x288 with 2 Axes>"
      ]
     },
     "metadata": {
      "needs_background": "light"
     },
     "output_type": "display_data"
    }
   ],
   "source": [
    "pred_nn_temp=model_nn.predict(X_test_nn)\n",
    "pred_nn=[]\n",
    "for i in pred_nn_temp:\n",
    "    pred_nn.append(1-np.argmax(i))\n",
    "score = metrics.accuracy_score(y_test, pred_nn)\n",
    "print(\"Accuracy:   %f\" % score)\n",
    "cm = metrics.confusion_matrix(y_test, pred_nn)\n",
    "sns.heatmap(cm, annot=True, fmt='d')\n",
    "plt.ylabel('True label')\n",
    "plt.xlabel('Predicted label')\n",
    "plt.show()"
   ]
  },
  {
   "cell_type": "code",
   "execution_count": 37,
   "metadata": {},
   "outputs": [
    {
     "name": "stdout",
     "output_type": "stream",
     "text": [
      "0 0 0 0 0\n",
      "0 0 0 0 0\n",
      "0 0 0 0 0\n",
      "1 1 1 1 1\n",
      "1 0 0 1 1\n",
      "0 0 0 0 1\n",
      "1 1 1 1 1\n",
      "1 1 1 1 1\n",
      "1 0 0 0 1\n",
      "1 1 1 0 1\n",
      "0 0 0 0 0\n",
      "1 1 1 1 1\n",
      "0 0 0 0 0\n",
      "1 1 1 1 1\n",
      "1 1 1 1 1\n",
      "1 0 1 1 0\n",
      "0 0 0 0 0\n",
      "0 0 0 0 0\n",
      "0 0 0 0 0\n",
      "0 1 1 0 1\n",
      "0 0 0 0 0\n",
      "1 1 1 1 1\n",
      "0 0 0 0 0\n",
      "0 0 0 0 0\n",
      "1 0 1 1 0\n",
      "1 1 1 1 1\n",
      "0 0 0 0 0\n",
      "1 0 1 1 1\n",
      "1 1 1 1 1\n",
      "0 0 0 1 0\n",
      "0 0 0 0 0\n",
      "1 1 1 1 1\n",
      "0 0 0 0 0\n",
      "0 0 0 0 1\n",
      "0 0 0 0 0\n",
      "1 0 0 0 1\n",
      "0 0 0 0 0\n",
      "0 0 0 0 0\n",
      "0 0 0 0 0\n",
      "0 0 0 0 0\n",
      "1 0 0 0 1\n",
      "0 0 0 0 0\n",
      "0 0 0 0 0\n",
      "0 0 0 0 0\n",
      "1 1 1 1 1\n",
      "0 0 0 0 0\n",
      "0 0 0 0 0\n",
      "1 1 1 1 1\n",
      "0 0 0 0 0\n",
      "1 0 0 0 0\n",
      "0 0 0 0 1\n",
      "1 0 0 0 1\n",
      "1 1 1 1 1\n",
      "0 0 0 0 0\n",
      "0 1 0 0 1\n",
      "0 0 0 0 0\n",
      "1 0 0 0 0\n",
      "0 0 0 0 0\n",
      "0 0 0 0 0\n",
      "0 0 0 0 1\n",
      "0 0 0 0 0\n",
      "1 0 0 1 0\n",
      "1 1 1 1 1\n",
      "0 0 0 0 0\n",
      "1 0 0 1 1\n",
      "0 0 0 0 0\n",
      "1 1 1 1 1\n",
      "0 0 0 0 0\n",
      "1 0 1 1 1\n",
      "1 1 1 1 1\n",
      "1 1 1 1 1\n",
      "1 0 0 0 1\n",
      "1 0 0 0 0\n",
      "0 0 0 0 0\n",
      "0 0 0 0 0\n",
      "0 1 1 1 1\n",
      "0 0 0 0 0\n",
      "1 0 0 0 0\n",
      "0 0 0 0 0\n",
      "0 0 0 0 0\n",
      "0 0 0 0 0\n",
      "0 1 0 0 1\n",
      "1 1 1 1 0\n",
      "0 0 0 0 0\n",
      "0 0 0 0 0\n",
      "1 1 1 1 1\n",
      "1 1 1 1 1\n",
      "1 0 1 0 1\n",
      "1 1 1 1 1\n",
      "1 1 0 0 0\n",
      "0 0 0 1 0\n",
      "0 0 0 0 0\n",
      "0 1 1 0 1\n",
      "1 1 1 1 1\n",
      "0 0 0 0 0\n",
      "0 0 0 0 0\n",
      "1 1 1 1 1\n",
      "0 0 0 0 0\n",
      "1 0 0 0 0\n",
      "1 0 0 0 1\n",
      "0 0 0 0 0\n",
      "0 0 0 0 0\n",
      "0 0 0 0 0\n",
      "0 0 0 0 0\n",
      "1 0 0 0 0\n",
      "1 0 0 0 1\n",
      "1 1 1 1 1\n",
      "1 0 0 0 0\n",
      "0 0 0 0 0\n",
      "1 1 1 0 1\n",
      "0 0 0 0 0\n",
      "1 1 1 1 1\n",
      "0 0 0 0 1\n",
      "1 1 1 0 0\n",
      "1 0 1 0 1\n",
      "1 1 1 1 1\n",
      "1 0 1 1 1\n",
      "1 1 1 1 1\n",
      "0 0 0 0 0\n",
      "1 1 1 1 1\n",
      "0 0 0 0 1\n",
      "0 0 0 0 0\n",
      "0 0 0 0 0\n",
      "1 0 0 0 0\n",
      "0 0 0 0 0\n",
      "1 0 0 0 0\n",
      "0 0 0 0 0\n",
      "0 0 0 0 1\n",
      "0 0 0 0 0\n",
      "0 0 0 0 0\n",
      "1 0 1 1 0\n",
      "0 0 0 0 0\n",
      "0 0 0 0 0\n",
      "1 0 1 1 0\n",
      "1 0 0 0 0\n",
      "0 0 0 0 0\n",
      "0 0 0 0 0\n",
      "1 0 0 0 0\n",
      "0 0 0 0 0\n",
      "0 0 0 0 0\n",
      "0 0 0 0 0\n",
      "1 1 1 1 1\n",
      "0 0 0 0 0\n",
      "1 0 1 1 0\n",
      "1 1 1 1 1\n",
      "1 0 1 1 0\n",
      "0 0 0 0 0\n",
      "1 1 1 1 1\n",
      "1 1 1 1 1\n",
      "0 0 0 0 0\n",
      "1 0 0 0 0\n",
      "1 0 1 1 1\n",
      "1 0 1 1 0\n",
      "0 0 0 0 0\n",
      "1 1 1 1 1\n",
      "0 0 0 0 0\n",
      "1 0 0 0 0\n",
      "0 0 0 0 1\n",
      "1 1 1 1 0\n",
      "1 1 1 1 1\n",
      "0 0 0 0 0\n",
      "0 0 0 0 1\n",
      "1 1 1 1 1\n",
      "0 0 0 0 1\n",
      "0 0 0 0 0\n",
      "0 0 0 0 0\n",
      "0 0 0 0 0\n",
      "0 0 0 0 0\n",
      "0 0 0 0 0\n",
      "0 0 0 0 0\n",
      "0 0 0 0 0\n",
      "1 1 1 1 1\n",
      "0 0 0 0 0\n",
      "0 0 0 0 0\n",
      "1 0 1 1 1\n",
      "0 0 0 0 0\n",
      "1 1 1 1 1\n",
      "0 0 0 0 0\n",
      "0 0 0 0 0\n",
      "1 0 0 1 0\n",
      "0 0 0 0 0\n",
      "0 0 0 0 0\n",
      "0 0 0 0 0\n",
      "0 0 0 0 0\n",
      "1 0 0 0 0\n",
      "0 0 0 0 0\n",
      "1 1 1 1 1\n",
      "0 0 0 0 0\n",
      "0 0 0 0 0\n",
      "1 1 1 1 1\n",
      "1 0 1 1 0\n",
      "1 0 0 0 0\n",
      "1 0 1 1 1\n",
      "1 1 1 1 1\n",
      "0 0 0 0 0\n",
      "1 0 0 0 0\n",
      "0 0 0 0 0\n",
      "1 1 1 1 1\n",
      "1 0 0 0 1\n",
      "0 0 0 0 0\n",
      "0 0 0 0 1\n",
      "1 1 1 1 0\n",
      "0 0 0 0 0\n",
      "1 0 1 1 1\n",
      "0 0 0 0 1\n",
      "0 0 0 0 0\n",
      "1 0 0 0 0\n",
      "0 0 0 0 0\n",
      "1 0 1 1 1\n",
      "0 0 0 0 0\n",
      "0 0 0 0 0\n",
      "1 0 0 0 1\n",
      "0 0 0 0 0\n",
      "1 0 0 1 0\n",
      "0 0 0 0 0\n",
      "0 0 0 0 0\n",
      "0 0 0 0 0\n",
      "0 1 1 0 1\n",
      "1 0 0 0 0\n",
      "1 1 1 1 1\n",
      "0 0 0 0 0\n",
      "1 1 1 1 1\n",
      "1 1 1 1 1\n",
      "0 0 0 0 0\n",
      "0 0 0 0 1\n",
      "0 0 0 0 0\n",
      "0 0 0 0 0\n",
      "1 1 1 1 1\n",
      "0 0 0 0 1\n",
      "0 0 0 0 0\n",
      "0 0 0 0 0\n",
      "1 1 1 1 1\n",
      "1 0 1 1 1\n",
      "1 0 1 1 0\n",
      "1 0 0 0 0\n",
      "0 0 0 0 0\n",
      "1 1 1 1 1\n",
      "1 1 1 1 1\n",
      "1 1 1 1 1\n",
      "0 0 0 0 0\n",
      "0 0 0 0 0\n",
      "1 1 1 1 1\n",
      "0 0 0 0 0\n",
      "0 0 0 0 0\n",
      "1 1 1 1 1\n",
      "0 0 0 0 1\n",
      "1 1 1 1 0\n",
      "0 0 0 0 0\n",
      "0 0 0 0 0\n",
      "1 0 1 1 1\n",
      "0 0 0 0 0\n",
      "0 0 0 0 0\n",
      "1 0 0 0 0\n",
      "0 0 0 0 0\n",
      "0 0 0 0 0\n",
      "1 0 0 1 0\n",
      "1 1 1 1 1\n",
      "0 0 0 0 1\n",
      "0 0 0 0 1\n",
      "0 0 0 0 0\n",
      "0 0 0 0 0\n",
      "0 0 0 0 0\n",
      "0 0 0 0 0\n",
      "1 0 0 0 0\n",
      "0 0 0 0 0\n",
      "0 0 0 0 0\n",
      "1 0 1 1 1\n",
      "0 0 0 0 0\n"
     ]
    }
   ],
   "source": [
    "for i,y in enumerate(y_test):\n",
    "    print(pred_nb[i],pred_dt[i],pred_rf[i],pred_nn[i],y)"
   ]
  },
  {
   "cell_type": "code",
   "execution_count": 38,
   "metadata": {},
   "outputs": [],
   "source": [
    "X_train_final=[]\n",
    "for i,_ in enumerate(pred_nb):\n",
    "    X_train_final.append([pred_nb[i],pred_dt[i],pred_rf[i],pred_nn[i]])\n",
    "X_train_final=np.array(X_train_final)\n",
    "y_train_final=[]\n",
    "for val in y_test.values:\n",
    "    y_train_final.append([val,1-val])\n",
    "y_train_final=np.array(y_train_final)"
   ]
  },
  {
   "cell_type": "code",
   "execution_count": 39,
   "metadata": {},
   "outputs": [],
   "source": [
    "np.random.seed(1)\n",
    "model = Sequential()\n",
    "model.add(Dense(15, input_dim=len(X_train_final[0])))\n",
    "model.add(Dense(10))\n",
    "model.add(Dense(10))\n",
    "model.add(Dense(len(y_train_final[0]), activation=\"softmax\"))\n",
    "model.compile(optimizer=\"adam\", loss=\"binary_crossentropy\", metrics=['accuracy'])"
   ]
  },
  {
   "cell_type": "code",
   "execution_count": 40,
   "metadata": {
    "scrolled": true
   },
   "outputs": [
    {
     "name": "stdout",
     "output_type": "stream",
     "text": [
      "WARNING:tensorflow:From C:\\Users\\Fran\\.conda\\envs\\general\\lib\\site-packages\\tensorflow\\python\\ops\\math_grad.py:1250: add_dispatch_support.<locals>.wrapper (from tensorflow.python.ops.array_ops) is deprecated and will be removed in a future version.\n",
      "Instructions for updating:\n",
      "Use tf.where in 2.0, which has the same broadcast rule as np.where\n",
      "Train on 201 samples, validate on 67 samples\n",
      "Epoch 1/200\n",
      "201/201 [==============================] - 0s 1ms/step - loss: 0.6490 - accuracy: 0.7687 - val_loss: 0.6397 - val_accuracy: 0.7612\n",
      "Epoch 2/200\n",
      "201/201 [==============================] - 0s 252us/step - loss: 0.6215 - accuracy: 0.7910 - val_loss: 0.6198 - val_accuracy: 0.8209\n",
      "Epoch 3/200\n",
      "201/201 [==============================] - 0s 218us/step - loss: 0.5970 - accuracy: 0.8358 - val_loss: 0.5941 - val_accuracy: 0.8209\n",
      "Epoch 4/200\n",
      "201/201 [==============================] - 0s 159us/step - loss: 0.5659 - accuracy: 0.8358 - val_loss: 0.5662 - val_accuracy: 0.8209\n",
      "Epoch 5/200\n",
      "201/201 [==============================] - 0s 174us/step - loss: 0.5363 - accuracy: 0.8358 - val_loss: 0.5376 - val_accuracy: 0.8209\n",
      "Epoch 6/200\n",
      "201/201 [==============================] - 0s 149us/step - loss: 0.5015 - accuracy: 0.8308 - val_loss: 0.5125 - val_accuracy: 0.8209\n",
      "Epoch 7/200\n",
      "201/201 [==============================] - 0s 159us/step - loss: 0.4727 - accuracy: 0.8308 - val_loss: 0.4916 - val_accuracy: 0.8507\n",
      "Epoch 8/200\n",
      "201/201 [==============================] - 0s 154us/step - loss: 0.4506 - accuracy: 0.8308 - val_loss: 0.4756 - val_accuracy: 0.8507\n",
      "Epoch 9/200\n",
      "201/201 [==============================] - 0s 129us/step - loss: 0.4293 - accuracy: 0.8358 - val_loss: 0.4644 - val_accuracy: 0.8507\n",
      "Epoch 10/200\n",
      "201/201 [==============================] - 0s 139us/step - loss: 0.4138 - accuracy: 0.8259 - val_loss: 0.4568 - val_accuracy: 0.8507\n",
      "Epoch 11/200\n",
      "201/201 [==============================] - 0s 139us/step - loss: 0.4082 - accuracy: 0.8408 - val_loss: 0.4559 - val_accuracy: 0.7910\n",
      "Epoch 12/200\n",
      "201/201 [==============================] - 0s 149us/step - loss: 0.4060 - accuracy: 0.8358 - val_loss: 0.4564 - val_accuracy: 0.7910\n",
      "Epoch 13/200\n",
      "201/201 [==============================] - 0s 134us/step - loss: 0.4012 - accuracy: 0.8358 - val_loss: 0.4579 - val_accuracy: 0.8507\n",
      "Epoch 14/200\n",
      "201/201 [==============================] - 0s 134us/step - loss: 0.4013 - accuracy: 0.8259 - val_loss: 0.4618 - val_accuracy: 0.8507\n",
      "Epoch 15/200\n",
      "201/201 [==============================] - 0s 134us/step - loss: 0.4027 - accuracy: 0.8259 - val_loss: 0.4675 - val_accuracy: 0.8507\n",
      "Epoch 16/200\n",
      "201/201 [==============================] - 0s 134us/step - loss: 0.4002 - accuracy: 0.8259 - val_loss: 0.4660 - val_accuracy: 0.8507\n",
      "Epoch 17/200\n",
      "201/201 [==============================] - 0s 139us/step - loss: 0.3984 - accuracy: 0.8408 - val_loss: 0.4611 - val_accuracy: 0.7910\n",
      "Epoch 18/200\n",
      "201/201 [==============================] - 0s 124us/step - loss: 0.4030 - accuracy: 0.8358 - val_loss: 0.4622 - val_accuracy: 0.7910\n",
      "Epoch 19/200\n",
      "201/201 [==============================] - 0s 139us/step - loss: 0.4018 - accuracy: 0.8358 - val_loss: 0.4622 - val_accuracy: 0.7910\n",
      "Epoch 20/200\n",
      "201/201 [==============================] - 0s 144us/step - loss: 0.3998 - accuracy: 0.8358 - val_loss: 0.4629 - val_accuracy: 0.7910\n",
      "Epoch 21/200\n",
      "201/201 [==============================] - 0s 139us/step - loss: 0.3980 - accuracy: 0.8209 - val_loss: 0.4641 - val_accuracy: 0.8507\n",
      "Epoch 22/200\n",
      "201/201 [==============================] - 0s 139us/step - loss: 0.3971 - accuracy: 0.8259 - val_loss: 0.4651 - val_accuracy: 0.8507\n",
      "Epoch 23/200\n",
      "201/201 [==============================] - 0s 134us/step - loss: 0.3965 - accuracy: 0.8259 - val_loss: 0.4668 - val_accuracy: 0.8507\n",
      "Epoch 24/200\n",
      "201/201 [==============================] - 0s 139us/step - loss: 0.3965 - accuracy: 0.8259 - val_loss: 0.4681 - val_accuracy: 0.8507\n",
      "Epoch 25/200\n",
      "201/201 [==============================] - 0s 139us/step - loss: 0.3967 - accuracy: 0.8259 - val_loss: 0.4687 - val_accuracy: 0.8507\n",
      "Epoch 26/200\n",
      "201/201 [==============================] - 0s 144us/step - loss: 0.3968 - accuracy: 0.8259 - val_loss: 0.4688 - val_accuracy: 0.8507\n",
      "Epoch 27/200\n",
      "201/201 [==============================] - 0s 149us/step - loss: 0.3967 - accuracy: 0.8259 - val_loss: 0.4692 - val_accuracy: 0.8507\n",
      "Epoch 28/200\n",
      "201/201 [==============================] - 0s 149us/step - loss: 0.3961 - accuracy: 0.8259 - val_loss: 0.4665 - val_accuracy: 0.8507\n",
      "Epoch 29/200\n",
      "201/201 [==============================] - 0s 149us/step - loss: 0.3973 - accuracy: 0.8259 - val_loss: 0.4672 - val_accuracy: 0.8507\n",
      "Epoch 30/200\n",
      "201/201 [==============================] - 0s 154us/step - loss: 0.3972 - accuracy: 0.8259 - val_loss: 0.4668 - val_accuracy: 0.8507\n",
      "Epoch 31/200\n",
      "201/201 [==============================] - 0s 144us/step - loss: 0.3979 - accuracy: 0.8259 - val_loss: 0.4651 - val_accuracy: 0.8507\n",
      "Epoch 32/200\n",
      "201/201 [==============================] - 0s 134us/step - loss: 0.3983 - accuracy: 0.8259 - val_loss: 0.4654 - val_accuracy: 0.8507\n",
      "Epoch 33/200\n",
      "201/201 [==============================] - 0s 144us/step - loss: 0.3978 - accuracy: 0.8259 - val_loss: 0.4660 - val_accuracy: 0.8507\n",
      "Epoch 34/200\n",
      "201/201 [==============================] - 0s 139us/step - loss: 0.3973 - accuracy: 0.8259 - val_loss: 0.4666 - val_accuracy: 0.8507\n",
      "Epoch 35/200\n",
      "201/201 [==============================] - 0s 154us/step - loss: 0.3981 - accuracy: 0.8259 - val_loss: 0.4683 - val_accuracy: 0.8507\n",
      "Epoch 36/200\n",
      "201/201 [==============================] - 0s 149us/step - loss: 0.3966 - accuracy: 0.8259 - val_loss: 0.4685 - val_accuracy: 0.8507\n",
      "Epoch 37/200\n",
      "201/201 [==============================] - 0s 139us/step - loss: 0.3965 - accuracy: 0.8259 - val_loss: 0.4693 - val_accuracy: 0.8507\n",
      "Epoch 38/200\n",
      "201/201 [==============================] - 0s 149us/step - loss: 0.3965 - accuracy: 0.8259 - val_loss: 0.4709 - val_accuracy: 0.8507\n",
      "Epoch 39/200\n",
      "201/201 [==============================] - 0s 134us/step - loss: 0.3962 - accuracy: 0.8259 - val_loss: 0.4715 - val_accuracy: 0.8507\n",
      "Epoch 40/200\n",
      "201/201 [==============================] - 0s 144us/step - loss: 0.3976 - accuracy: 0.8259 - val_loss: 0.4749 - val_accuracy: 0.8507\n",
      "Epoch 41/200\n",
      "201/201 [==============================] - 0s 144us/step - loss: 0.3978 - accuracy: 0.8259 - val_loss: 0.4744 - val_accuracy: 0.8507\n",
      "Epoch 42/200\n",
      "201/201 [==============================] - 0s 159us/step - loss: 0.3974 - accuracy: 0.8259 - val_loss: 0.4736 - val_accuracy: 0.8507\n",
      "Epoch 43/200\n",
      "201/201 [==============================] - 0s 154us/step - loss: 0.3953 - accuracy: 0.8259 - val_loss: 0.4722 - val_accuracy: 0.7910\n",
      "Epoch 44/200\n",
      "201/201 [==============================] - 0s 159us/step - loss: 0.3965 - accuracy: 0.8358 - val_loss: 0.4732 - val_accuracy: 0.7910\n",
      "Epoch 45/200\n",
      "201/201 [==============================] - 0s 154us/step - loss: 0.3965 - accuracy: 0.8358 - val_loss: 0.4731 - val_accuracy: 0.7910\n",
      "Epoch 46/200\n",
      "201/201 [==============================] - 0s 149us/step - loss: 0.3967 - accuracy: 0.8358 - val_loss: 0.4730 - val_accuracy: 0.7910\n",
      "Epoch 47/200\n",
      "201/201 [==============================] - 0s 134us/step - loss: 0.3974 - accuracy: 0.8259 - val_loss: 0.4674 - val_accuracy: 0.7910\n",
      "Epoch 48/200\n",
      "201/201 [==============================] - 0s 139us/step - loss: 0.4018 - accuracy: 0.8358 - val_loss: 0.4650 - val_accuracy: 0.7910\n",
      "Epoch 49/200\n",
      "201/201 [==============================] - 0s 139us/step - loss: 0.4025 - accuracy: 0.8358 - val_loss: 0.4652 - val_accuracy: 0.7910\n",
      "Epoch 50/200\n",
      "201/201 [==============================] - 0s 149us/step - loss: 0.4011 - accuracy: 0.8358 - val_loss: 0.4646 - val_accuracy: 0.7910\n",
      "Epoch 51/200\n",
      "201/201 [==============================] - 0s 154us/step - loss: 0.3990 - accuracy: 0.8308 - val_loss: 0.4656 - val_accuracy: 0.7910\n",
      "Epoch 52/200\n",
      "201/201 [==============================] - 0s 149us/step - loss: 0.3980 - accuracy: 0.8358 - val_loss: 0.4686 - val_accuracy: 0.7910\n",
      "Epoch 53/200\n",
      "201/201 [==============================] - 0s 179us/step - loss: 0.3991 - accuracy: 0.8358 - val_loss: 0.4700 - val_accuracy: 0.7910\n",
      "Epoch 54/200\n"
     ]
    },
    {
     "name": "stdout",
     "output_type": "stream",
     "text": [
      "201/201 [==============================] - 0s 203us/step - loss: 0.3980 - accuracy: 0.8358 - val_loss: 0.4708 - val_accuracy: 0.7910\n",
      "Epoch 55/200\n",
      "201/201 [==============================] - 0s 332us/step - loss: 0.3974 - accuracy: 0.8358 - val_loss: 0.4716 - val_accuracy: 0.7910\n",
      "Epoch 56/200\n",
      "201/201 [==============================] - 0s 243us/step - loss: 0.3969 - accuracy: 0.8308 - val_loss: 0.4728 - val_accuracy: 0.7910\n",
      "Epoch 57/200\n",
      "201/201 [==============================] - 0s 228us/step - loss: 0.3997 - accuracy: 0.8358 - val_loss: 0.4749 - val_accuracy: 0.7910\n",
      "Epoch 58/200\n",
      "201/201 [==============================] - 0s 213us/step - loss: 0.3978 - accuracy: 0.8308 - val_loss: 0.4731 - val_accuracy: 0.8507\n",
      "Epoch 59/200\n",
      "201/201 [==============================] - 0s 223us/step - loss: 0.3968 - accuracy: 0.8259 - val_loss: 0.4740 - val_accuracy: 0.8507\n",
      "Epoch 60/200\n",
      "201/201 [==============================] - 0s 208us/step - loss: 0.3968 - accuracy: 0.8259 - val_loss: 0.4730 - val_accuracy: 0.8507\n",
      "Epoch 61/200\n",
      "201/201 [==============================] - 0s 154us/step - loss: 0.3965 - accuracy: 0.8259 - val_loss: 0.4734 - val_accuracy: 0.8507\n",
      "Epoch 62/200\n",
      "201/201 [==============================] - 0s 134us/step - loss: 0.3991 - accuracy: 0.8159 - val_loss: 0.4739 - val_accuracy: 0.7910\n",
      "Epoch 63/200\n",
      "201/201 [==============================] - 0s 144us/step - loss: 0.3975 - accuracy: 0.8358 - val_loss: 0.4739 - val_accuracy: 0.7910\n",
      "Epoch 64/200\n",
      "201/201 [==============================] - 0s 149us/step - loss: 0.3999 - accuracy: 0.8358 - val_loss: 0.4722 - val_accuracy: 0.7910\n",
      "Epoch 65/200\n",
      "201/201 [==============================] - 0s 149us/step - loss: 0.4029 - accuracy: 0.8358 - val_loss: 0.4708 - val_accuracy: 0.7910\n",
      "Epoch 66/200\n",
      "201/201 [==============================] - 0s 149us/step - loss: 0.3999 - accuracy: 0.8358 - val_loss: 0.4703 - val_accuracy: 0.8507\n",
      "Epoch 67/200\n",
      "201/201 [==============================] - 0s 149us/step - loss: 0.3981 - accuracy: 0.8259 - val_loss: 0.4708 - val_accuracy: 0.8507\n",
      "Epoch 68/200\n",
      "201/201 [==============================] - 0s 149us/step - loss: 0.3970 - accuracy: 0.8259 - val_loss: 0.4706 - val_accuracy: 0.8507\n",
      "Epoch 69/200\n",
      "201/201 [==============================] - 0s 149us/step - loss: 0.3973 - accuracy: 0.8259 - val_loss: 0.4720 - val_accuracy: 0.8507\n",
      "Epoch 70/200\n",
      "201/201 [==============================] - 0s 144us/step - loss: 0.3971 - accuracy: 0.8259 - val_loss: 0.4735 - val_accuracy: 0.8507\n",
      "Epoch 71/200\n",
      "201/201 [==============================] - 0s 149us/step - loss: 0.3964 - accuracy: 0.8259 - val_loss: 0.4735 - val_accuracy: 0.8507\n",
      "Epoch 72/200\n",
      "201/201 [==============================] - 0s 149us/step - loss: 0.3967 - accuracy: 0.8358 - val_loss: 0.4743 - val_accuracy: 0.7910\n",
      "Epoch 73/200\n",
      "201/201 [==============================] - 0s 223us/step - loss: 0.3979 - accuracy: 0.8358 - val_loss: 0.4705 - val_accuracy: 0.7910\n",
      "Epoch 74/200\n",
      "201/201 [==============================] - 0s 288us/step - loss: 0.3970 - accuracy: 0.8358 - val_loss: 0.4702 - val_accuracy: 0.7910\n",
      "Epoch 75/200\n",
      "201/201 [==============================] - 0s 248us/step - loss: 0.3971 - accuracy: 0.8358 - val_loss: 0.4699 - val_accuracy: 0.7910\n",
      "Epoch 76/200\n",
      "201/201 [==============================] - 0s 298us/step - loss: 0.3970 - accuracy: 0.8358 - val_loss: 0.4697 - val_accuracy: 0.7910\n",
      "Epoch 77/200\n",
      "201/201 [==============================] - 0s 233us/step - loss: 0.4009 - accuracy: 0.8358 - val_loss: 0.4688 - val_accuracy: 0.7910\n",
      "Epoch 78/200\n",
      "201/201 [==============================] - 0s 258us/step - loss: 0.4006 - accuracy: 0.8358 - val_loss: 0.4653 - val_accuracy: 0.7910\n",
      "Epoch 79/200\n",
      "201/201 [==============================] - 0s 238us/step - loss: 0.3981 - accuracy: 0.8308 - val_loss: 0.4659 - val_accuracy: 0.8507\n",
      "Epoch 80/200\n",
      "201/201 [==============================] - 0s 193us/step - loss: 0.3979 - accuracy: 0.8259 - val_loss: 0.4675 - val_accuracy: 0.8507\n",
      "Epoch 81/200\n",
      "201/201 [==============================] - 0s 189us/step - loss: 0.3967 - accuracy: 0.8259 - val_loss: 0.4673 - val_accuracy: 0.8507\n",
      "Epoch 82/200\n",
      "201/201 [==============================] - 0s 218us/step - loss: 0.3969 - accuracy: 0.8259 - val_loss: 0.4683 - val_accuracy: 0.8507\n",
      "Epoch 83/200\n",
      "201/201 [==============================] - 0s 184us/step - loss: 0.3969 - accuracy: 0.8259 - val_loss: 0.4692 - val_accuracy: 0.8507\n",
      "Epoch 84/200\n",
      "201/201 [==============================] - ETA: 0s - loss: 0.3627 - accuracy: 0.80 - 0s 169us/step - loss: 0.3965 - accuracy: 0.8259 - val_loss: 0.4700 - val_accuracy: 0.8507\n",
      "Epoch 85/200\n",
      "201/201 [==============================] - 0s 154us/step - loss: 0.3969 - accuracy: 0.8259 - val_loss: 0.4705 - val_accuracy: 0.8507\n",
      "Epoch 86/200\n",
      "201/201 [==============================] - 0s 149us/step - loss: 0.3975 - accuracy: 0.8259 - val_loss: 0.4712 - val_accuracy: 0.8507\n",
      "Epoch 87/200\n",
      "201/201 [==============================] - 0s 154us/step - loss: 0.3974 - accuracy: 0.8259 - val_loss: 0.4710 - val_accuracy: 0.8507\n",
      "Epoch 88/200\n",
      "201/201 [==============================] - 0s 159us/step - loss: 0.3968 - accuracy: 0.8259 - val_loss: 0.4702 - val_accuracy: 0.8507\n",
      "Epoch 89/200\n",
      "201/201 [==============================] - 0s 174us/step - loss: 0.3963 - accuracy: 0.8259 - val_loss: 0.4699 - val_accuracy: 0.8507\n",
      "Epoch 90/200\n",
      "201/201 [==============================] - 0s 253us/step - loss: 0.3970 - accuracy: 0.8259 - val_loss: 0.4658 - val_accuracy: 0.8507\n",
      "Epoch 91/200\n",
      "201/201 [==============================] - 0s 288us/step - loss: 0.3968 - accuracy: 0.8259 - val_loss: 0.4660 - val_accuracy: 0.8507\n",
      "Epoch 92/200\n",
      "201/201 [==============================] - 0s 258us/step - loss: 0.3966 - accuracy: 0.8259 - val_loss: 0.4659 - val_accuracy: 0.8507\n",
      "Epoch 93/200\n",
      "201/201 [==============================] - 0s 233us/step - loss: 0.3962 - accuracy: 0.8259 - val_loss: 0.4670 - val_accuracy: 0.8507\n",
      "Epoch 94/200\n",
      "201/201 [==============================] - 0s 273us/step - loss: 0.3967 - accuracy: 0.8259 - val_loss: 0.4679 - val_accuracy: 0.8507\n",
      "Epoch 95/200\n",
      "201/201 [==============================] - 0s 223us/step - loss: 0.3961 - accuracy: 0.8259 - val_loss: 0.4689 - val_accuracy: 0.8507\n",
      "Epoch 96/200\n",
      "201/201 [==============================] - 0s 213us/step - loss: 0.3961 - accuracy: 0.8259 - val_loss: 0.4702 - val_accuracy: 0.8507\n",
      "Epoch 97/200\n",
      "201/201 [==============================] - 0s 198us/step - loss: 0.3962 - accuracy: 0.8259 - val_loss: 0.4710 - val_accuracy: 0.8507\n",
      "Epoch 98/200\n",
      "201/201 [==============================] - 0s 164us/step - loss: 0.3959 - accuracy: 0.8259 - val_loss: 0.4703 - val_accuracy: 0.8507\n",
      "Epoch 99/200\n",
      "201/201 [==============================] - 0s 159us/step - loss: 0.3966 - accuracy: 0.8259 - val_loss: 0.4709 - val_accuracy: 0.8507\n",
      "Epoch 100/200\n",
      "201/201 [==============================] - 0s 144us/step - loss: 0.3965 - accuracy: 0.8259 - val_loss: 0.4714 - val_accuracy: 0.8507\n",
      "Epoch 101/200\n",
      "201/201 [==============================] - 0s 159us/step - loss: 0.3970 - accuracy: 0.8259 - val_loss: 0.4727 - val_accuracy: 0.8507\n",
      "Epoch 102/200\n",
      "201/201 [==============================] - 0s 174us/step - loss: 0.3966 - accuracy: 0.8259 - val_loss: 0.4731 - val_accuracy: 0.8507\n",
      "Epoch 103/200\n",
      "201/201 [==============================] - 0s 144us/step - loss: 0.3969 - accuracy: 0.8259 - val_loss: 0.4725 - val_accuracy: 0.8507\n",
      "Epoch 104/200\n",
      "201/201 [==============================] - 0s 169us/step - loss: 0.3971 - accuracy: 0.8259 - val_loss: 0.4734 - val_accuracy: 0.8507\n",
      "Epoch 105/200\n",
      "201/201 [==============================] - 0s 149us/step - loss: 0.3967 - accuracy: 0.8259 - val_loss: 0.4745 - val_accuracy: 0.8507\n",
      "Epoch 106/200\n",
      "201/201 [==============================] - 0s 134us/step - loss: 0.3988 - accuracy: 0.8259 - val_loss: 0.4765 - val_accuracy: 0.8507\n",
      "Epoch 107/200\n",
      "201/201 [==============================] - 0s 139us/step - loss: 0.4002 - accuracy: 0.8358 - val_loss: 0.4795 - val_accuracy: 0.8507\n",
      "Epoch 108/200\n",
      "201/201 [==============================] - 0s 159us/step - loss: 0.4000 - accuracy: 0.8358 - val_loss: 0.4778 - val_accuracy: 0.8507\n",
      "Epoch 109/200\n",
      "201/201 [==============================] - 0s 149us/step - loss: 0.3979 - accuracy: 0.8259 - val_loss: 0.4754 - val_accuracy: 0.8507\n"
     ]
    },
    {
     "name": "stdout",
     "output_type": "stream",
     "text": [
      "Epoch 110/200\n",
      "201/201 [==============================] - 0s 144us/step - loss: 0.3958 - accuracy: 0.8259 - val_loss: 0.4755 - val_accuracy: 0.8507\n",
      "Epoch 111/200\n",
      "201/201 [==============================] - 0s 164us/step - loss: 0.3955 - accuracy: 0.8408 - val_loss: 0.4755 - val_accuracy: 0.7910\n",
      "Epoch 112/200\n",
      "201/201 [==============================] - 0s 154us/step - loss: 0.3957 - accuracy: 0.8358 - val_loss: 0.4762 - val_accuracy: 0.7910\n",
      "Epoch 113/200\n",
      "201/201 [==============================] - 0s 159us/step - loss: 0.3967 - accuracy: 0.8358 - val_loss: 0.4763 - val_accuracy: 0.7910\n",
      "Epoch 114/200\n",
      "201/201 [==============================] - 0s 164us/step - loss: 0.3959 - accuracy: 0.8358 - val_loss: 0.4793 - val_accuracy: 0.8507\n",
      "Epoch 115/200\n",
      "201/201 [==============================] - 0s 149us/step - loss: 0.3996 - accuracy: 0.8259 - val_loss: 0.4850 - val_accuracy: 0.8209\n",
      "Epoch 116/200\n",
      "201/201 [==============================] - 0s 149us/step - loss: 0.4016 - accuracy: 0.8209 - val_loss: 0.4829 - val_accuracy: 0.8507\n",
      "Epoch 117/200\n",
      "201/201 [==============================] - 0s 159us/step - loss: 0.4000 - accuracy: 0.8259 - val_loss: 0.4814 - val_accuracy: 0.8507\n",
      "Epoch 118/200\n",
      "201/201 [==============================] - 0s 149us/step - loss: 0.3979 - accuracy: 0.8259 - val_loss: 0.4791 - val_accuracy: 0.8507\n",
      "Epoch 119/200\n",
      "201/201 [==============================] - 0s 154us/step - loss: 0.3971 - accuracy: 0.8259 - val_loss: 0.4787 - val_accuracy: 0.8507\n",
      "Epoch 120/200\n",
      "201/201 [==============================] - 0s 139us/step - loss: 0.3972 - accuracy: 0.8259 - val_loss: 0.4814 - val_accuracy: 0.8507\n",
      "Epoch 121/200\n",
      "201/201 [==============================] - 0s 149us/step - loss: 0.3981 - accuracy: 0.8259 - val_loss: 0.4811 - val_accuracy: 0.8507\n",
      "Epoch 122/200\n",
      "201/201 [==============================] - 0s 174us/step - loss: 0.3997 - accuracy: 0.8259 - val_loss: 0.4829 - val_accuracy: 0.8507\n",
      "Epoch 123/200\n",
      "201/201 [==============================] - 0s 170us/step - loss: 0.3996 - accuracy: 0.8259 - val_loss: 0.4816 - val_accuracy: 0.8507\n",
      "Epoch 124/200\n",
      "201/201 [==============================] - 0s 278us/step - loss: 0.3995 - accuracy: 0.8308 - val_loss: 0.4832 - val_accuracy: 0.8507\n",
      "Epoch 125/200\n",
      "201/201 [==============================] - 0s 273us/step - loss: 0.4014 - accuracy: 0.8358 - val_loss: 0.4781 - val_accuracy: 0.8507\n",
      "Epoch 126/200\n",
      "201/201 [==============================] - 0s 268us/step - loss: 0.4007 - accuracy: 0.8358 - val_loss: 0.4760 - val_accuracy: 0.8507\n",
      "Epoch 127/200\n",
      "201/201 [==============================] - 0s 283us/step - loss: 0.4015 - accuracy: 0.8358 - val_loss: 0.4781 - val_accuracy: 0.8507\n",
      "Epoch 128/200\n",
      "201/201 [==============================] - 0s 218us/step - loss: 0.4012 - accuracy: 0.8358 - val_loss: 0.4771 - val_accuracy: 0.8507\n",
      "Epoch 129/200\n",
      "201/201 [==============================] - 0s 213us/step - loss: 0.3990 - accuracy: 0.8358 - val_loss: 0.4756 - val_accuracy: 0.8507\n",
      "Epoch 130/200\n",
      "201/201 [==============================] - 0s 184us/step - loss: 0.3972 - accuracy: 0.8259 - val_loss: 0.4760 - val_accuracy: 0.8507\n",
      "Epoch 131/200\n",
      "201/201 [==============================] - 0s 179us/step - loss: 0.3968 - accuracy: 0.8060 - val_loss: 0.4761 - val_accuracy: 0.7910\n",
      "Epoch 132/200\n",
      "201/201 [==============================] - 0s 179us/step - loss: 0.3961 - accuracy: 0.8358 - val_loss: 0.4764 - val_accuracy: 0.7910\n",
      "Epoch 133/200\n",
      "201/201 [==============================] - 0s 184us/step - loss: 0.3979 - accuracy: 0.8358 - val_loss: 0.4784 - val_accuracy: 0.7910\n",
      "Epoch 134/200\n",
      "201/201 [==============================] - 0s 159us/step - loss: 0.3984 - accuracy: 0.8358 - val_loss: 0.4800 - val_accuracy: 0.7910\n",
      "Epoch 135/200\n",
      "201/201 [==============================] - 0s 154us/step - loss: 0.3975 - accuracy: 0.8358 - val_loss: 0.4793 - val_accuracy: 0.7910\n",
      "Epoch 136/200\n",
      "201/201 [==============================] - 0s 159us/step - loss: 0.3967 - accuracy: 0.8358 - val_loss: 0.4795 - val_accuracy: 0.7910\n",
      "Epoch 137/200\n",
      "201/201 [==============================] - 0s 159us/step - loss: 0.3973 - accuracy: 0.8358 - val_loss: 0.4796 - val_accuracy: 0.7910\n",
      "Epoch 138/200\n",
      "201/201 [==============================] - 0s 174us/step - loss: 0.3977 - accuracy: 0.8358 - val_loss: 0.4786 - val_accuracy: 0.7910\n",
      "Epoch 139/200\n",
      "201/201 [==============================] - 0s 179us/step - loss: 0.4002 - accuracy: 0.8358 - val_loss: 0.4708 - val_accuracy: 0.7910\n",
      "Epoch 140/200\n",
      "201/201 [==============================] - 0s 154us/step - loss: 0.3965 - accuracy: 0.8358 - val_loss: 0.4667 - val_accuracy: 0.8507\n",
      "Epoch 141/200\n",
      "201/201 [==============================] - 0s 179us/step - loss: 0.3961 - accuracy: 0.8259 - val_loss: 0.4674 - val_accuracy: 0.8507\n",
      "Epoch 142/200\n",
      "201/201 [==============================] - 0s 154us/step - loss: 0.3974 - accuracy: 0.8259 - val_loss: 0.4691 - val_accuracy: 0.8507\n",
      "Epoch 143/200\n",
      "201/201 [==============================] - 0s 159us/step - loss: 0.3966 - accuracy: 0.8259 - val_loss: 0.4699 - val_accuracy: 0.8507\n",
      "Epoch 144/200\n",
      "201/201 [==============================] - 0s 164us/step - loss: 0.3967 - accuracy: 0.8259 - val_loss: 0.4701 - val_accuracy: 0.8507\n",
      "Epoch 145/200\n",
      "201/201 [==============================] - 0s 159us/step - loss: 0.3972 - accuracy: 0.8259 - val_loss: 0.4685 - val_accuracy: 0.8507\n",
      "Epoch 146/200\n",
      "201/201 [==============================] - 0s 164us/step - loss: 0.3963 - accuracy: 0.8308 - val_loss: 0.4692 - val_accuracy: 0.7910\n",
      "Epoch 147/200\n",
      "201/201 [==============================] - 0s 139us/step - loss: 0.3960 - accuracy: 0.8358 - val_loss: 0.4698 - val_accuracy: 0.8507\n",
      "Epoch 148/200\n",
      "201/201 [==============================] - 0s 159us/step - loss: 0.3940 - accuracy: 0.8259 - val_loss: 0.4704 - val_accuracy: 0.8507\n",
      "Epoch 149/200\n",
      "201/201 [==============================] - 0s 174us/step - loss: 0.3970 - accuracy: 0.8259 - val_loss: 0.4701 - val_accuracy: 0.8507\n",
      "Epoch 150/200\n",
      "201/201 [==============================] - 0s 179us/step - loss: 0.3970 - accuracy: 0.8259 - val_loss: 0.4693 - val_accuracy: 0.8507\n",
      "Epoch 151/200\n",
      "201/201 [==============================] - 0s 144us/step - loss: 0.3963 - accuracy: 0.8259 - val_loss: 0.4693 - val_accuracy: 0.8507\n",
      "Epoch 152/200\n",
      "201/201 [==============================] - 0s 144us/step - loss: 0.3961 - accuracy: 0.8259 - val_loss: 0.4695 - val_accuracy: 0.8507\n",
      "Epoch 153/200\n",
      "201/201 [==============================] - 0s 164us/step - loss: 0.3960 - accuracy: 0.8259 - val_loss: 0.4697 - val_accuracy: 0.8507\n",
      "Epoch 154/200\n",
      "201/201 [==============================] - 0s 139us/step - loss: 0.3963 - accuracy: 0.8259 - val_loss: 0.4695 - val_accuracy: 0.8507\n",
      "Epoch 155/200\n",
      "201/201 [==============================] - 0s 154us/step - loss: 0.3977 - accuracy: 0.8209 - val_loss: 0.4695 - val_accuracy: 0.7910\n",
      "Epoch 156/200\n",
      "201/201 [==============================] - 0s 198us/step - loss: 0.3972 - accuracy: 0.8259 - val_loss: 0.4684 - val_accuracy: 0.8507\n",
      "Epoch 157/200\n",
      "201/201 [==============================] - 0s 184us/step - loss: 0.3965 - accuracy: 0.8259 - val_loss: 0.4683 - val_accuracy: 0.8507\n",
      "Epoch 158/200\n",
      "201/201 [==============================] - 0s 154us/step - loss: 0.3963 - accuracy: 0.8259 - val_loss: 0.4676 - val_accuracy: 0.8507\n",
      "Epoch 159/200\n",
      "201/201 [==============================] - 0s 149us/step - loss: 0.4021 - accuracy: 0.8408 - val_loss: 0.4663 - val_accuracy: 0.7910\n",
      "Epoch 160/200\n",
      "201/201 [==============================] - 0s 164us/step - loss: 0.4056 - accuracy: 0.8358 - val_loss: 0.4664 - val_accuracy: 0.7910\n",
      "Epoch 161/200\n",
      "201/201 [==============================] - 0s 169us/step - loss: 0.4026 - accuracy: 0.8358 - val_loss: 0.4632 - val_accuracy: 0.7910\n",
      "Epoch 162/200\n",
      "201/201 [==============================] - 0s 159us/step - loss: 0.3981 - accuracy: 0.8358 - val_loss: 0.4638 - val_accuracy: 0.7910\n",
      "Epoch 163/200\n",
      "201/201 [==============================] - 0s 179us/step - loss: 0.3960 - accuracy: 0.8259 - val_loss: 0.4653 - val_accuracy: 0.8507\n",
      "Epoch 164/200\n",
      "201/201 [==============================] - 0s 169us/step - loss: 0.3958 - accuracy: 0.8259 - val_loss: 0.4669 - val_accuracy: 0.8507\n",
      "Epoch 165/200\n",
      "201/201 [==============================] - 0s 154us/step - loss: 0.3954 - accuracy: 0.8259 - val_loss: 0.4680 - val_accuracy: 0.8507\n"
     ]
    },
    {
     "name": "stdout",
     "output_type": "stream",
     "text": [
      "Epoch 166/200\n",
      "201/201 [==============================] - 0s 159us/step - loss: 0.3962 - accuracy: 0.8259 - val_loss: 0.4682 - val_accuracy: 0.8507\n",
      "Epoch 167/200\n",
      "201/201 [==============================] - 0s 174us/step - loss: 0.3964 - accuracy: 0.8259 - val_loss: 0.4689 - val_accuracy: 0.8507\n",
      "Epoch 168/200\n",
      "201/201 [==============================] - 0s 268us/step - loss: 0.3973 - accuracy: 0.8259 - val_loss: 0.4694 - val_accuracy: 0.8507\n",
      "Epoch 169/200\n",
      "201/201 [==============================] - 0s 198us/step - loss: 0.3963 - accuracy: 0.8259 - val_loss: 0.4696 - val_accuracy: 0.8507\n",
      "Epoch 170/200\n",
      "201/201 [==============================] - 0s 198us/step - loss: 0.3966 - accuracy: 0.8259 - val_loss: 0.4696 - val_accuracy: 0.8507\n",
      "Epoch 171/200\n",
      "201/201 [==============================] - 0s 194us/step - loss: 0.3960 - accuracy: 0.8259 - val_loss: 0.4695 - val_accuracy: 0.8507\n",
      "Epoch 172/200\n",
      "201/201 [==============================] - 0s 228us/step - loss: 0.3964 - accuracy: 0.8259 - val_loss: 0.4710 - val_accuracy: 0.8507\n",
      "Epoch 173/200\n",
      "201/201 [==============================] - 0s 203us/step - loss: 0.3963 - accuracy: 0.8259 - val_loss: 0.4704 - val_accuracy: 0.8507\n",
      "Epoch 174/200\n",
      "201/201 [==============================] - 0s 203us/step - loss: 0.3968 - accuracy: 0.8259 - val_loss: 0.4700 - val_accuracy: 0.8507\n",
      "Epoch 175/200\n",
      "201/201 [==============================] - 0s 238us/step - loss: 0.3963 - accuracy: 0.8259 - val_loss: 0.4713 - val_accuracy: 0.8507\n",
      "Epoch 176/200\n",
      "201/201 [==============================] - 0s 198us/step - loss: 0.3975 - accuracy: 0.8358 - val_loss: 0.4719 - val_accuracy: 0.8507\n",
      "Epoch 177/200\n",
      "201/201 [==============================] - 0s 213us/step - loss: 0.3973 - accuracy: 0.8358 - val_loss: 0.4703 - val_accuracy: 0.8507\n",
      "Epoch 178/200\n",
      "201/201 [==============================] - 0s 198us/step - loss: 0.3954 - accuracy: 0.8308 - val_loss: 0.4682 - val_accuracy: 0.7910\n",
      "Epoch 179/200\n",
      "201/201 [==============================] - 0s 169us/step - loss: 0.3960 - accuracy: 0.8358 - val_loss: 0.4692 - val_accuracy: 0.7910\n",
      "Epoch 180/200\n",
      "201/201 [==============================] - 0s 184us/step - loss: 0.3965 - accuracy: 0.8358 - val_loss: 0.4705 - val_accuracy: 0.7910\n",
      "Epoch 181/200\n",
      "201/201 [==============================] - 0s 268us/step - loss: 0.3966 - accuracy: 0.8358 - val_loss: 0.4705 - val_accuracy: 0.8507\n",
      "Epoch 182/200\n",
      "201/201 [==============================] - 0s 213us/step - loss: 0.3996 - accuracy: 0.8259 - val_loss: 0.4725 - val_accuracy: 0.8507\n",
      "Epoch 183/200\n",
      "201/201 [==============================] - 0s 237us/step - loss: 0.3964 - accuracy: 0.8358 - val_loss: 0.4720 - val_accuracy: 0.8507\n",
      "Epoch 184/200\n",
      "201/201 [==============================] - 0s 194us/step - loss: 0.3972 - accuracy: 0.8259 - val_loss: 0.4707 - val_accuracy: 0.8507\n",
      "Epoch 185/200\n",
      "201/201 [==============================] - 0s 228us/step - loss: 0.3956 - accuracy: 0.8358 - val_loss: 0.4679 - val_accuracy: 0.8507\n",
      "Epoch 186/200\n",
      "201/201 [==============================] - 0s 198us/step - loss: 0.3971 - accuracy: 0.8358 - val_loss: 0.4679 - val_accuracy: 0.8507\n",
      "Epoch 187/200\n",
      "201/201 [==============================] - 0s 223us/step - loss: 0.3967 - accuracy: 0.8358 - val_loss: 0.4689 - val_accuracy: 0.8507\n",
      "Epoch 188/200\n",
      "201/201 [==============================] - 0s 253us/step - loss: 0.3962 - accuracy: 0.8308 - val_loss: 0.4687 - val_accuracy: 0.8507\n",
      "Epoch 189/200\n",
      "201/201 [==============================] - 0s 208us/step - loss: 0.3964 - accuracy: 0.8358 - val_loss: 0.4673 - val_accuracy: 0.8507\n",
      "Epoch 190/200\n",
      "201/201 [==============================] - 0s 228us/step - loss: 0.3971 - accuracy: 0.8358 - val_loss: 0.4671 - val_accuracy: 0.8507\n",
      "Epoch 191/200\n",
      "201/201 [==============================] - 0s 233us/step - loss: 0.3971 - accuracy: 0.8358 - val_loss: 0.4671 - val_accuracy: 0.8507\n",
      "Epoch 192/200\n",
      "201/201 [==============================] - 0s 248us/step - loss: 0.3963 - accuracy: 0.8259 - val_loss: 0.4678 - val_accuracy: 0.8507\n",
      "Epoch 193/200\n",
      "201/201 [==============================] - 0s 213us/step - loss: 0.3956 - accuracy: 0.8259 - val_loss: 0.4691 - val_accuracy: 0.8507\n",
      "Epoch 194/200\n",
      "201/201 [==============================] - 0s 194us/step - loss: 0.3951 - accuracy: 0.8308 - val_loss: 0.4706 - val_accuracy: 0.8507\n",
      "Epoch 195/200\n",
      "201/201 [==============================] - 0s 203us/step - loss: 0.3970 - accuracy: 0.8358 - val_loss: 0.4715 - val_accuracy: 0.8507\n",
      "Epoch 196/200\n",
      "201/201 [==============================] - 0s 233us/step - loss: 0.3974 - accuracy: 0.8358 - val_loss: 0.4706 - val_accuracy: 0.8507\n",
      "Epoch 197/200\n",
      "201/201 [==============================] - 0s 238us/step - loss: 0.3959 - accuracy: 0.8358 - val_loss: 0.4702 - val_accuracy: 0.8507\n",
      "Epoch 198/200\n",
      "201/201 [==============================] - 0s 248us/step - loss: 0.3962 - accuracy: 0.8308 - val_loss: 0.4714 - val_accuracy: 0.7910\n",
      "Epoch 199/200\n",
      "201/201 [==============================] - 0s 238us/step - loss: 0.3968 - accuracy: 0.8358 - val_loss: 0.4716 - val_accuracy: 0.7910\n",
      "Epoch 200/200\n",
      "201/201 [==============================] - 0s 203us/step - loss: 0.3967 - accuracy: 0.8358 - val_loss: 0.4716 - val_accuracy: 0.7910\n"
     ]
    }
   ],
   "source": [
    "pred_final=model.fit(X_train_final, y_train_final, epochs=200, batch_size=20,validation_split=0.25 )"
   ]
  },
  {
   "cell_type": "code",
   "execution_count": 41,
   "metadata": {},
   "outputs": [
    {
     "data": {
      "text/html": [
       "<div>\n",
       "<style scoped>\n",
       "    .dataframe tbody tr th:only-of-type {\n",
       "        vertical-align: middle;\n",
       "    }\n",
       "\n",
       "    .dataframe tbody tr th {\n",
       "        vertical-align: top;\n",
       "    }\n",
       "\n",
       "    .dataframe thead th {\n",
       "        text-align: right;\n",
       "    }\n",
       "</style>\n",
       "<table border=\"1\" class=\"dataframe\">\n",
       "  <thead>\n",
       "    <tr style=\"text-align: right;\">\n",
       "      <th></th>\n",
       "      <th>PassengerId</th>\n",
       "      <th>Pclass</th>\n",
       "      <th>Name</th>\n",
       "      <th>Sex</th>\n",
       "      <th>Age</th>\n",
       "      <th>SibSp</th>\n",
       "      <th>Parch</th>\n",
       "      <th>Ticket</th>\n",
       "      <th>Fare</th>\n",
       "      <th>Cabin</th>\n",
       "      <th>Embarked</th>\n",
       "    </tr>\n",
       "  </thead>\n",
       "  <tbody>\n",
       "    <tr>\n",
       "      <th>0</th>\n",
       "      <td>892</td>\n",
       "      <td>3</td>\n",
       "      <td>Kelly, Mr. James</td>\n",
       "      <td>male</td>\n",
       "      <td>34.5</td>\n",
       "      <td>0</td>\n",
       "      <td>0</td>\n",
       "      <td>330911</td>\n",
       "      <td>7.8292</td>\n",
       "      <td>NaN</td>\n",
       "      <td>Q</td>\n",
       "    </tr>\n",
       "    <tr>\n",
       "      <th>1</th>\n",
       "      <td>893</td>\n",
       "      <td>3</td>\n",
       "      <td>Wilkes, Mrs. James (Ellen Needs)</td>\n",
       "      <td>female</td>\n",
       "      <td>47.0</td>\n",
       "      <td>1</td>\n",
       "      <td>0</td>\n",
       "      <td>363272</td>\n",
       "      <td>7.0000</td>\n",
       "      <td>NaN</td>\n",
       "      <td>S</td>\n",
       "    </tr>\n",
       "    <tr>\n",
       "      <th>2</th>\n",
       "      <td>894</td>\n",
       "      <td>2</td>\n",
       "      <td>Myles, Mr. Thomas Francis</td>\n",
       "      <td>male</td>\n",
       "      <td>62.0</td>\n",
       "      <td>0</td>\n",
       "      <td>0</td>\n",
       "      <td>240276</td>\n",
       "      <td>9.6875</td>\n",
       "      <td>NaN</td>\n",
       "      <td>Q</td>\n",
       "    </tr>\n",
       "    <tr>\n",
       "      <th>3</th>\n",
       "      <td>895</td>\n",
       "      <td>3</td>\n",
       "      <td>Wirz, Mr. Albert</td>\n",
       "      <td>male</td>\n",
       "      <td>27.0</td>\n",
       "      <td>0</td>\n",
       "      <td>0</td>\n",
       "      <td>315154</td>\n",
       "      <td>8.6625</td>\n",
       "      <td>NaN</td>\n",
       "      <td>S</td>\n",
       "    </tr>\n",
       "    <tr>\n",
       "      <th>4</th>\n",
       "      <td>896</td>\n",
       "      <td>3</td>\n",
       "      <td>Hirvonen, Mrs. Alexander (Helga E Lindqvist)</td>\n",
       "      <td>female</td>\n",
       "      <td>22.0</td>\n",
       "      <td>1</td>\n",
       "      <td>1</td>\n",
       "      <td>3101298</td>\n",
       "      <td>12.2875</td>\n",
       "      <td>NaN</td>\n",
       "      <td>S</td>\n",
       "    </tr>\n",
       "  </tbody>\n",
       "</table>\n",
       "</div>"
      ],
      "text/plain": [
       "   PassengerId  Pclass                                          Name     Sex  \\\n",
       "0          892       3                              Kelly, Mr. James    male   \n",
       "1          893       3              Wilkes, Mrs. James (Ellen Needs)  female   \n",
       "2          894       2                     Myles, Mr. Thomas Francis    male   \n",
       "3          895       3                              Wirz, Mr. Albert    male   \n",
       "4          896       3  Hirvonen, Mrs. Alexander (Helga E Lindqvist)  female   \n",
       "\n",
       "    Age  SibSp  Parch   Ticket     Fare Cabin Embarked  \n",
       "0  34.5      0      0   330911   7.8292   NaN        Q  \n",
       "1  47.0      1      0   363272   7.0000   NaN        S  \n",
       "2  62.0      0      0   240276   9.6875   NaN        Q  \n",
       "3  27.0      0      0   315154   8.6625   NaN        S  \n",
       "4  22.0      1      1  3101298  12.2875   NaN        S  "
      ]
     },
     "execution_count": 41,
     "metadata": {},
     "output_type": "execute_result"
    }
   ],
   "source": [
    "df_test = pd.read_csv(\"test.csv\")\n",
    "df_test.head()"
   ]
  },
  {
   "cell_type": "code",
   "execution_count": 42,
   "metadata": {},
   "outputs": [
    {
     "data": {
      "text/plain": [
       "PassengerId      0\n",
       "Pclass           0\n",
       "Name             0\n",
       "Sex              0\n",
       "Age             86\n",
       "SibSp            0\n",
       "Parch            0\n",
       "Ticket           0\n",
       "Fare             1\n",
       "Cabin          327\n",
       "Embarked         0\n",
       "dtype: int64"
      ]
     },
     "execution_count": 42,
     "metadata": {},
     "output_type": "execute_result"
    }
   ],
   "source": [
    "df_test.isnull().sum()"
   ]
  },
  {
   "cell_type": "code",
   "execution_count": 43,
   "metadata": {},
   "outputs": [
    {
     "data": {
      "text/html": [
       "<div>\n",
       "<style scoped>\n",
       "    .dataframe tbody tr th:only-of-type {\n",
       "        vertical-align: middle;\n",
       "    }\n",
       "\n",
       "    .dataframe tbody tr th {\n",
       "        vertical-align: top;\n",
       "    }\n",
       "\n",
       "    .dataframe thead th {\n",
       "        text-align: right;\n",
       "    }\n",
       "</style>\n",
       "<table border=\"1\" class=\"dataframe\">\n",
       "  <thead>\n",
       "    <tr style=\"text-align: right;\">\n",
       "      <th></th>\n",
       "      <th>PassengerId</th>\n",
       "      <th>Pclass</th>\n",
       "      <th>Name</th>\n",
       "      <th>Age</th>\n",
       "      <th>SibSp</th>\n",
       "      <th>Parch</th>\n",
       "      <th>Ticket</th>\n",
       "      <th>Fare</th>\n",
       "      <th>Cabin</th>\n",
       "      <th>Embarked</th>\n",
       "      <th>Sex_male</th>\n",
       "      <th>Age_random</th>\n",
       "      <th>Age_null</th>\n",
       "    </tr>\n",
       "  </thead>\n",
       "  <tbody>\n",
       "    <tr>\n",
       "      <th>0</th>\n",
       "      <td>892</td>\n",
       "      <td>3</td>\n",
       "      <td>Kelly, Mr. James</td>\n",
       "      <td>34.5</td>\n",
       "      <td>0</td>\n",
       "      <td>0</td>\n",
       "      <td>330911</td>\n",
       "      <td>7.8292</td>\n",
       "      <td>NaN</td>\n",
       "      <td>Q</td>\n",
       "      <td>1</td>\n",
       "      <td>34.5</td>\n",
       "      <td>0</td>\n",
       "    </tr>\n",
       "    <tr>\n",
       "      <th>1</th>\n",
       "      <td>893</td>\n",
       "      <td>3</td>\n",
       "      <td>Wilkes, Mrs. James (Ellen Needs)</td>\n",
       "      <td>47.0</td>\n",
       "      <td>1</td>\n",
       "      <td>0</td>\n",
       "      <td>363272</td>\n",
       "      <td>7.0000</td>\n",
       "      <td>NaN</td>\n",
       "      <td>S</td>\n",
       "      <td>0</td>\n",
       "      <td>47.0</td>\n",
       "      <td>0</td>\n",
       "    </tr>\n",
       "    <tr>\n",
       "      <th>2</th>\n",
       "      <td>894</td>\n",
       "      <td>2</td>\n",
       "      <td>Myles, Mr. Thomas Francis</td>\n",
       "      <td>62.0</td>\n",
       "      <td>0</td>\n",
       "      <td>0</td>\n",
       "      <td>240276</td>\n",
       "      <td>9.6875</td>\n",
       "      <td>NaN</td>\n",
       "      <td>Q</td>\n",
       "      <td>1</td>\n",
       "      <td>62.0</td>\n",
       "      <td>0</td>\n",
       "    </tr>\n",
       "    <tr>\n",
       "      <th>3</th>\n",
       "      <td>895</td>\n",
       "      <td>3</td>\n",
       "      <td>Wirz, Mr. Albert</td>\n",
       "      <td>27.0</td>\n",
       "      <td>0</td>\n",
       "      <td>0</td>\n",
       "      <td>315154</td>\n",
       "      <td>8.6625</td>\n",
       "      <td>NaN</td>\n",
       "      <td>S</td>\n",
       "      <td>1</td>\n",
       "      <td>27.0</td>\n",
       "      <td>0</td>\n",
       "    </tr>\n",
       "    <tr>\n",
       "      <th>4</th>\n",
       "      <td>896</td>\n",
       "      <td>3</td>\n",
       "      <td>Hirvonen, Mrs. Alexander (Helga E Lindqvist)</td>\n",
       "      <td>22.0</td>\n",
       "      <td>1</td>\n",
       "      <td>1</td>\n",
       "      <td>3101298</td>\n",
       "      <td>12.2875</td>\n",
       "      <td>NaN</td>\n",
       "      <td>S</td>\n",
       "      <td>0</td>\n",
       "      <td>22.0</td>\n",
       "      <td>0</td>\n",
       "    </tr>\n",
       "  </tbody>\n",
       "</table>\n",
       "</div>"
      ],
      "text/plain": [
       "   PassengerId  Pclass                                          Name   Age  \\\n",
       "0          892       3                              Kelly, Mr. James  34.5   \n",
       "1          893       3              Wilkes, Mrs. James (Ellen Needs)  47.0   \n",
       "2          894       2                     Myles, Mr. Thomas Francis  62.0   \n",
       "3          895       3                              Wirz, Mr. Albert  27.0   \n",
       "4          896       3  Hirvonen, Mrs. Alexander (Helga E Lindqvist)  22.0   \n",
       "\n",
       "   SibSp  Parch   Ticket     Fare Cabin Embarked  Sex_male  Age_random  \\\n",
       "0      0      0   330911   7.8292   NaN        Q         1        34.5   \n",
       "1      1      0   363272   7.0000   NaN        S         0        47.0   \n",
       "2      0      0   240276   9.6875   NaN        Q         1        62.0   \n",
       "3      0      0   315154   8.6625   NaN        S         1        27.0   \n",
       "4      1      1  3101298  12.2875   NaN        S         0        22.0   \n",
       "\n",
       "   Age_null  \n",
       "0         0  \n",
       "1         0  \n",
       "2         0  \n",
       "3         0  \n",
       "4         0  "
      ]
     },
     "execution_count": 43,
     "metadata": {},
     "output_type": "execute_result"
    }
   ],
   "source": [
    "df_test=pd.get_dummies(df_test,columns=[\"Sex\"],drop_first=True)\n",
    "imputeNanRandom(df_test,\"Age\")\n",
    "df_test['Age_null']=np.where(df_test['Age'].isnull(),1,0)\n",
    "df_test.head()"
   ]
  },
  {
   "cell_type": "code",
   "execution_count": 44,
   "metadata": {},
   "outputs": [],
   "source": [
    "x=df_test[['Pclass','SibSp','Parch','Sex_male','Age_random','Age_null']]"
   ]
  },
  {
   "cell_type": "code",
   "execution_count": 45,
   "metadata": {},
   "outputs": [],
   "source": [
    "pred_nb=model_nb.predict(x)\n",
    "pred_dt=model_dt.predict(x)\n",
    "pred_rf=model_rf.predict(x)\n",
    "pred_nn_temp=model_nn.predict(x)\n",
    "pred_nn=[]\n",
    "for i in pred_nn_temp:\n",
    "    pred_nn.append(1-np.argmax(i))"
   ]
  },
  {
   "cell_type": "code",
   "execution_count": 46,
   "metadata": {},
   "outputs": [],
   "source": [
    "x_final=[]\n",
    "for i,_ in enumerate(pred_nb):\n",
    "    x_final.append([pred_nb[i],pred_dt[i],pred_rf[i],pred_nn[i]])\n",
    "x_final=np.array(x_final)"
   ]
  },
  {
   "cell_type": "code",
   "execution_count": 47,
   "metadata": {},
   "outputs": [],
   "source": [
    "pred_final_temp=model.predict(x_final)\n",
    "pred=[]\n",
    "for i in pred_final_temp:\n",
    "    pred.append(1-np.argmax(i))"
   ]
  },
  {
   "cell_type": "code",
   "execution_count": 48,
   "metadata": {},
   "outputs": [],
   "source": [
    "with open(\"submission.csv\",'w') as f:\n",
    "    f.write(\"PassengerId,Survived\\n\")\n",
    "    for i,v in enumerate(df_test.values):\n",
    "        f.write(str(v[0])+','+str(pred[i])+'\\n')"
   ]
  }
 ],
 "metadata": {
  "kernelspec": {
   "display_name": "Default",
   "language": "python",
   "name": "default"
  },
  "language_info": {
   "codemirror_mode": {
    "name": "ipython",
    "version": 3
   },
   "file_extension": ".py",
   "mimetype": "text/x-python",
   "name": "python",
   "nbconvert_exporter": "python",
   "pygments_lexer": "ipython3",
   "version": "3.7.7"
  }
 },
 "nbformat": 4,
 "nbformat_minor": 4
}
